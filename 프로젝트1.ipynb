{
 "cells": [
  {
   "cell_type": "code",
   "execution_count": 1,
   "metadata": {},
   "outputs": [],
   "source": [
    "import pandas as pd"
   ]
  },
  {
   "cell_type": "markdown",
   "metadata": {},
   "source": [
    "## 0. 데이터 가지고오기"
   ]
  },
  {
   "cell_type": "code",
   "execution_count": 98,
   "metadata": {},
   "outputs": [],
   "source": [
    "bowling_m=pd.read_excel('bowling_ml.xlsx')\n",
    "bowling_w=pd.read_excel('bowling_ml_w.xlsx')"
   ]
  },
  {
   "cell_type": "code",
   "execution_count": 99,
   "metadata": {},
   "outputs": [
    {
     "data": {
      "text/html": [
       "<div>\n",
       "<style scoped>\n",
       "    .dataframe tbody tr th:only-of-type {\n",
       "        vertical-align: middle;\n",
       "    }\n",
       "\n",
       "    .dataframe tbody tr th {\n",
       "        vertical-align: top;\n",
       "    }\n",
       "\n",
       "    .dataframe thead th {\n",
       "        text-align: right;\n",
       "    }\n",
       "</style>\n",
       "<table border=\"1\" class=\"dataframe\">\n",
       "  <thead>\n",
       "    <tr style=\"text-align: right;\">\n",
       "      <th></th>\n",
       "      <th>Unnamed: 0</th>\n",
       "      <th>name</th>\n",
       "      <th>throws</th>\n",
       "      <th>team</th>\n",
       "      <th>height</th>\n",
       "      <th>exp</th>\n",
       "      <th>pro_exp</th>\n",
       "      <th>birth</th>\n",
       "      <th>weight</th>\n",
       "      <th>hand</th>\n",
       "      <th>ball_pound</th>\n",
       "      <th>TOT_AVG</th>\n",
       "      <th>CON_ST</th>\n",
       "      <th>L_READ</th>\n",
       "      <th>OVERCOME</th>\n",
       "      <th>SPARE_SUC</th>\n",
       "    </tr>\n",
       "  </thead>\n",
       "  <tbody>\n",
       "    <tr>\n",
       "      <th>0</th>\n",
       "      <td>0</td>\n",
       "      <td>김진혁</td>\n",
       "      <td>크랭커</td>\n",
       "      <td>GRIP</td>\n",
       "      <td>180</td>\n",
       "      <td>23</td>\n",
       "      <td>3</td>\n",
       "      <td>1986-07-03</td>\n",
       "      <td>60</td>\n",
       "      <td>왼손</td>\n",
       "      <td>15.0</td>\n",
       "      <td>215.8</td>\n",
       "      <td>4.40</td>\n",
       "      <td>-9.000000</td>\n",
       "      <td>0.652252</td>\n",
       "      <td>0.811789</td>\n",
       "    </tr>\n",
       "    <tr>\n",
       "      <th>1</th>\n",
       "      <td>1</td>\n",
       "      <td>한재호</td>\n",
       "      <td>스트로커</td>\n",
       "      <td>퍼펙트코리아</td>\n",
       "      <td>173</td>\n",
       "      <td>22</td>\n",
       "      <td>3</td>\n",
       "      <td>1984-10-03</td>\n",
       "      <td>79</td>\n",
       "      <td>오른손</td>\n",
       "      <td>15.0</td>\n",
       "      <td>246.0</td>\n",
       "      <td>5.75</td>\n",
       "      <td>-9.750000</td>\n",
       "      <td>0.687281</td>\n",
       "      <td>0.659609</td>\n",
       "    </tr>\n",
       "    <tr>\n",
       "      <th>2</th>\n",
       "      <td>2</td>\n",
       "      <td>김홍기</td>\n",
       "      <td>크랭커</td>\n",
       "      <td>없음</td>\n",
       "      <td>179</td>\n",
       "      <td>13</td>\n",
       "      <td>4</td>\n",
       "      <td>1993-10-24</td>\n",
       "      <td>130</td>\n",
       "      <td>오른손</td>\n",
       "      <td>15.0</td>\n",
       "      <td>190.5</td>\n",
       "      <td>2.75</td>\n",
       "      <td>-9.250000</td>\n",
       "      <td>0.475010</td>\n",
       "      <td>0.542429</td>\n",
       "    </tr>\n",
       "    <tr>\n",
       "      <th>3</th>\n",
       "      <td>3</td>\n",
       "      <td>최성일</td>\n",
       "      <td>스트로커</td>\n",
       "      <td>트레이딩</td>\n",
       "      <td>175</td>\n",
       "      <td>10</td>\n",
       "      <td>8</td>\n",
       "      <td>1981-08-01</td>\n",
       "      <td>72</td>\n",
       "      <td>오른손</td>\n",
       "      <td>15.0</td>\n",
       "      <td>212.5</td>\n",
       "      <td>4.00</td>\n",
       "      <td>-8.750000</td>\n",
       "      <td>0.455561</td>\n",
       "      <td>0.768218</td>\n",
       "    </tr>\n",
       "    <tr>\n",
       "      <th>4</th>\n",
       "      <td>4</td>\n",
       "      <td>공병희</td>\n",
       "      <td>스트로커</td>\n",
       "      <td>Brunswick</td>\n",
       "      <td>167</td>\n",
       "      <td>31</td>\n",
       "      <td>6</td>\n",
       "      <td>1973-03-29</td>\n",
       "      <td>70</td>\n",
       "      <td>왼손</td>\n",
       "      <td>15.0</td>\n",
       "      <td>172.0</td>\n",
       "      <td>2.00</td>\n",
       "      <td>-8.666667</td>\n",
       "      <td>0.688754</td>\n",
       "      <td>0.467551</td>\n",
       "    </tr>\n",
       "  </tbody>\n",
       "</table>\n",
       "</div>"
      ],
      "text/plain": [
       "   Unnamed: 0 name throws       team  height  exp  pro_exp       birth  \\\n",
       "0           0  김진혁    크랭커       GRIP     180   23        3  1986-07-03   \n",
       "1           1  한재호   스트로커     퍼펙트코리아     173   22        3  1984-10-03   \n",
       "2           2  김홍기    크랭커         없음     179   13        4  1993-10-24   \n",
       "3           3  최성일   스트로커       트레이딩     175   10        8  1981-08-01   \n",
       "4           4  공병희   스트로커  Brunswick     167   31        6  1973-03-29   \n",
       "\n",
       "   weight hand  ball_pound  TOT_AVG  CON_ST    L_READ  OVERCOME  SPARE_SUC  \n",
       "0      60   왼손        15.0    215.8    4.40 -9.000000  0.652252   0.811789  \n",
       "1      79  오른손        15.0    246.0    5.75 -9.750000  0.687281   0.659609  \n",
       "2     130  오른손        15.0    190.5    2.75 -9.250000  0.475010   0.542429  \n",
       "3      72  오른손        15.0    212.5    4.00 -8.750000  0.455561   0.768218  \n",
       "4      70   왼손        15.0    172.0    2.00 -8.666667  0.688754   0.467551  "
      ]
     },
     "execution_count": 99,
     "metadata": {},
     "output_type": "execute_result"
    }
   ],
   "source": [
    "bowling_m.head()"
   ]
  },
  {
   "cell_type": "code",
   "execution_count": 45,
   "metadata": {},
   "outputs": [
    {
     "data": {
      "text/html": [
       "<div>\n",
       "<style scoped>\n",
       "    .dataframe tbody tr th:only-of-type {\n",
       "        vertical-align: middle;\n",
       "    }\n",
       "\n",
       "    .dataframe tbody tr th {\n",
       "        vertical-align: top;\n",
       "    }\n",
       "\n",
       "    .dataframe thead th {\n",
       "        text-align: right;\n",
       "    }\n",
       "</style>\n",
       "<table border=\"1\" class=\"dataframe\">\n",
       "  <thead>\n",
       "    <tr style=\"text-align: right;\">\n",
       "      <th></th>\n",
       "      <th>name</th>\n",
       "      <th>throws</th>\n",
       "      <th>team</th>\n",
       "      <th>height</th>\n",
       "      <th>exp</th>\n",
       "      <th>pro_exp</th>\n",
       "      <th>birth</th>\n",
       "      <th>weight</th>\n",
       "      <th>hand</th>\n",
       "      <th>ball_pound</th>\n",
       "      <th>TOT_AVG</th>\n",
       "      <th>CON_ST</th>\n",
       "      <th>L_READ</th>\n",
       "      <th>OVERCOME</th>\n",
       "      <th>SPARE_SUC</th>\n",
       "    </tr>\n",
       "  </thead>\n",
       "  <tbody>\n",
       "    <tr>\n",
       "      <th>0</th>\n",
       "      <td>양은숙</td>\n",
       "      <td>스트로커</td>\n",
       "      <td>TEAM제이에스트레이딩㈜B</td>\n",
       "      <td>156</td>\n",
       "      <td>29</td>\n",
       "      <td>14</td>\n",
       "      <td>1964-09-03</td>\n",
       "      <td>53</td>\n",
       "      <td>오른손</td>\n",
       "      <td>15lbs</td>\n",
       "      <td>183</td>\n",
       "      <td>2</td>\n",
       "      <td>1</td>\n",
       "      <td>0.6</td>\n",
       "      <td>0.50</td>\n",
       "    </tr>\n",
       "    <tr>\n",
       "      <th>1</th>\n",
       "      <td>김효미</td>\n",
       "      <td>스트로커</td>\n",
       "      <td>TEAM STORM</td>\n",
       "      <td>166</td>\n",
       "      <td>22</td>\n",
       "      <td>7</td>\n",
       "      <td>1981-12-17</td>\n",
       "      <td>48</td>\n",
       "      <td>오른손</td>\n",
       "      <td>15lbs</td>\n",
       "      <td>225</td>\n",
       "      <td>3</td>\n",
       "      <td>2</td>\n",
       "      <td>1.0</td>\n",
       "      <td>0.75</td>\n",
       "    </tr>\n",
       "    <tr>\n",
       "      <th>2</th>\n",
       "      <td>정해원</td>\n",
       "      <td>크랭커</td>\n",
       "      <td>Brunswick</td>\n",
       "      <td>164</td>\n",
       "      <td>12</td>\n",
       "      <td>4</td>\n",
       "      <td>1998-03-17</td>\n",
       "      <td>68</td>\n",
       "      <td>왼손</td>\n",
       "      <td>15lbs</td>\n",
       "      <td>165</td>\n",
       "      <td>1</td>\n",
       "      <td>2</td>\n",
       "      <td>0.8</td>\n",
       "      <td>0.50</td>\n",
       "    </tr>\n",
       "    <tr>\n",
       "      <th>3</th>\n",
       "      <td>한진아14</td>\n",
       "      <td>크랭커</td>\n",
       "      <td>-</td>\n",
       "      <td>168</td>\n",
       "      <td>14</td>\n",
       "      <td>2</td>\n",
       "      <td>1998-02-24</td>\n",
       "      <td>63</td>\n",
       "      <td>오른손</td>\n",
       "      <td>14lbs</td>\n",
       "      <td>211</td>\n",
       "      <td>4</td>\n",
       "      <td>3</td>\n",
       "      <td>0.4</td>\n",
       "      <td>0.80</td>\n",
       "    </tr>\n",
       "    <tr>\n",
       "      <th>4</th>\n",
       "      <td>전성화</td>\n",
       "      <td>스트로커</td>\n",
       "      <td>Brunswick</td>\n",
       "      <td>166</td>\n",
       "      <td>16</td>\n",
       "      <td>13</td>\n",
       "      <td>1976-02-21</td>\n",
       "      <td>59</td>\n",
       "      <td>오른손</td>\n",
       "      <td>15lbs</td>\n",
       "      <td>203</td>\n",
       "      <td>6</td>\n",
       "      <td>4</td>\n",
       "      <td>0.4</td>\n",
       "      <td>0.40</td>\n",
       "    </tr>\n",
       "  </tbody>\n",
       "</table>\n",
       "</div>"
      ],
      "text/plain": [
       "    name throws            team  height  exp  pro_exp      birth  weight hand  \\\n",
       "0    양은숙   스트로커  TEAM제이에스트레이딩㈜B     156   29       14 1964-09-03      53  오른손   \n",
       "1    김효미   스트로커      TEAM STORM     166   22        7 1981-12-17      48  오른손   \n",
       "2    정해원    크랭커       Brunswick     164   12        4 1998-03-17      68   왼손   \n",
       "3  한진아14    크랭커               -     168   14        2 1998-02-24      63  오른손   \n",
       "4    전성화   스트로커       Brunswick     166   16       13 1976-02-21      59  오른손   \n",
       "\n",
       "  ball_pound  TOT_AVG  CON_ST  L_READ  OVERCOME  SPARE_SUC  \n",
       "0      15lbs      183       2       1       0.6       0.50  \n",
       "1      15lbs      225       3       2       1.0       0.75  \n",
       "2      15lbs      165       1       2       0.8       0.50  \n",
       "3      14lbs      211       4       3       0.4       0.80  \n",
       "4      15lbs      203       6       4       0.4       0.40  "
      ]
     },
     "execution_count": 45,
     "metadata": {},
     "output_type": "execute_result"
    }
   ],
   "source": [
    "bowling_w.head()"
   ]
  },
  {
   "cell_type": "markdown",
   "metadata": {},
   "source": [
    "---\n"
   ]
  },
  {
   "cell_type": "markdown",
   "metadata": {},
   "source": [
    "## 1. 남성부 자료부터 수정\n",
    "\n",
    "    - throws/ team / hand : 숫자로 변환"
   ]
  },
  {
   "cell_type": "code",
   "execution_count": 11,
   "metadata": {},
   "outputs": [],
   "source": [
    "from sklearn.preprocessing import LabelEncoder "
   ]
  },
  {
   "cell_type": "code",
   "execution_count": 100,
   "metadata": {},
   "outputs": [
    {
     "data": {
      "text/plain": [
       "array(['크랭커', '스트로커', '덤리스', '투핸드'], dtype=object)"
      ]
     },
     "execution_count": 100,
     "metadata": {},
     "output_type": "execute_result"
    }
   ],
   "source": [
    "bowling_m['throws'].unique()"
   ]
  },
  {
   "cell_type": "code",
   "execution_count": 101,
   "metadata": {},
   "outputs": [
    {
     "data": {
      "text/plain": [
       "LabelEncoder()"
      ]
     },
     "execution_count": 101,
     "metadata": {},
     "output_type": "execute_result"
    }
   ],
   "source": [
    "le=LabelEncoder()\n",
    "le.fit(bowling_m['throws']) #'크랭커', '스트로커', '덤리스', '투핸드'"
   ]
  },
  {
   "cell_type": "code",
   "execution_count": 102,
   "metadata": {},
   "outputs": [
    {
     "data": {
      "text/plain": [
       "array(['덤리스', '스트로커', '크랭커', '투핸드'], dtype=object)"
      ]
     },
     "execution_count": 102,
     "metadata": {},
     "output_type": "execute_result"
    }
   ],
   "source": [
    "le.classes_"
   ]
  },
  {
   "cell_type": "code",
   "execution_count": 103,
   "metadata": {},
   "outputs": [
    {
     "data": {
      "text/html": [
       "<div>\n",
       "<style scoped>\n",
       "    .dataframe tbody tr th:only-of-type {\n",
       "        vertical-align: middle;\n",
       "    }\n",
       "\n",
       "    .dataframe tbody tr th {\n",
       "        vertical-align: top;\n",
       "    }\n",
       "\n",
       "    .dataframe thead th {\n",
       "        text-align: right;\n",
       "    }\n",
       "</style>\n",
       "<table border=\"1\" class=\"dataframe\">\n",
       "  <thead>\n",
       "    <tr style=\"text-align: right;\">\n",
       "      <th></th>\n",
       "      <th>Unnamed: 0</th>\n",
       "      <th>name</th>\n",
       "      <th>throws</th>\n",
       "      <th>team</th>\n",
       "      <th>height</th>\n",
       "      <th>exp</th>\n",
       "      <th>pro_exp</th>\n",
       "      <th>birth</th>\n",
       "      <th>weight</th>\n",
       "      <th>hand</th>\n",
       "      <th>ball_pound</th>\n",
       "      <th>TOT_AVG</th>\n",
       "      <th>CON_ST</th>\n",
       "      <th>L_READ</th>\n",
       "      <th>OVERCOME</th>\n",
       "      <th>SPARE_SUC</th>\n",
       "      <th>throws_num</th>\n",
       "    </tr>\n",
       "  </thead>\n",
       "  <tbody>\n",
       "    <tr>\n",
       "      <th>10</th>\n",
       "      <td>10</td>\n",
       "      <td>정연광</td>\n",
       "      <td>크랭커</td>\n",
       "      <td>없음</td>\n",
       "      <td>175</td>\n",
       "      <td>6</td>\n",
       "      <td>1</td>\n",
       "      <td>1994-05-23</td>\n",
       "      <td>94</td>\n",
       "      <td>오른손</td>\n",
       "      <td>15.0</td>\n",
       "      <td>213.000000</td>\n",
       "      <td>3.333333</td>\n",
       "      <td>-9.666667</td>\n",
       "      <td>0.634618</td>\n",
       "      <td>0.556406</td>\n",
       "      <td>2</td>\n",
       "    </tr>\n",
       "    <tr>\n",
       "      <th>11</th>\n",
       "      <td>11</td>\n",
       "      <td>정태화</td>\n",
       "      <td>크랭커</td>\n",
       "      <td>DSD</td>\n",
       "      <td>178</td>\n",
       "      <td>35</td>\n",
       "      <td>25</td>\n",
       "      <td>1967-02-28</td>\n",
       "      <td>72</td>\n",
       "      <td>오른손</td>\n",
       "      <td>16.0</td>\n",
       "      <td>223.500000</td>\n",
       "      <td>4.750000</td>\n",
       "      <td>-9.000000</td>\n",
       "      <td>0.549980</td>\n",
       "      <td>0.627932</td>\n",
       "      <td>2</td>\n",
       "    </tr>\n",
       "    <tr>\n",
       "      <th>12</th>\n",
       "      <td>12</td>\n",
       "      <td>박성진</td>\n",
       "      <td>덤리스</td>\n",
       "      <td>없음</td>\n",
       "      <td>170</td>\n",
       "      <td>15</td>\n",
       "      <td>6</td>\n",
       "      <td>1982-06-16</td>\n",
       "      <td>75</td>\n",
       "      <td>오른손</td>\n",
       "      <td>15.0</td>\n",
       "      <td>195.750000</td>\n",
       "      <td>3.000000</td>\n",
       "      <td>-8.000000</td>\n",
       "      <td>0.450006</td>\n",
       "      <td>0.686220</td>\n",
       "      <td>0</td>\n",
       "    </tr>\n",
       "    <tr>\n",
       "      <th>13</th>\n",
       "      <td>13</td>\n",
       "      <td>최원영</td>\n",
       "      <td>크랭커</td>\n",
       "      <td>미스틱브래그</td>\n",
       "      <td>175</td>\n",
       "      <td>26</td>\n",
       "      <td>13</td>\n",
       "      <td>1981-07-04</td>\n",
       "      <td>105</td>\n",
       "      <td>오른손</td>\n",
       "      <td>16.0</td>\n",
       "      <td>226.750000</td>\n",
       "      <td>5.250000</td>\n",
       "      <td>-10.000000</td>\n",
       "      <td>0.427389</td>\n",
       "      <td>0.821683</td>\n",
       "      <td>2</td>\n",
       "    </tr>\n",
       "    <tr>\n",
       "      <th>14</th>\n",
       "      <td>14</td>\n",
       "      <td>김정현</td>\n",
       "      <td>투핸드</td>\n",
       "      <td>핑거하우스</td>\n",
       "      <td>182</td>\n",
       "      <td>12</td>\n",
       "      <td>9</td>\n",
       "      <td>1978-07-31</td>\n",
       "      <td>80</td>\n",
       "      <td>오른손</td>\n",
       "      <td>15.0</td>\n",
       "      <td>211.666667</td>\n",
       "      <td>3.333333</td>\n",
       "      <td>-9.666667</td>\n",
       "      <td>0.722074</td>\n",
       "      <td>0.739415</td>\n",
       "      <td>3</td>\n",
       "    </tr>\n",
       "    <tr>\n",
       "      <th>15</th>\n",
       "      <td>15</td>\n",
       "      <td>김태건</td>\n",
       "      <td>스트로커</td>\n",
       "      <td>명인공조</td>\n",
       "      <td>174</td>\n",
       "      <td>18</td>\n",
       "      <td>4</td>\n",
       "      <td>1973-12-15</td>\n",
       "      <td>65</td>\n",
       "      <td>오른손</td>\n",
       "      <td>15.0</td>\n",
       "      <td>214.666667</td>\n",
       "      <td>3.666667</td>\n",
       "      <td>-8.000000</td>\n",
       "      <td>0.361171</td>\n",
       "      <td>0.794774</td>\n",
       "      <td>1</td>\n",
       "    </tr>\n",
       "    <tr>\n",
       "      <th>16</th>\n",
       "      <td>16</td>\n",
       "      <td>오규석</td>\n",
       "      <td>크랭커</td>\n",
       "      <td>sports</td>\n",
       "      <td>176</td>\n",
       "      <td>14</td>\n",
       "      <td>6</td>\n",
       "      <td>1990-09-11</td>\n",
       "      <td>75</td>\n",
       "      <td>오른손</td>\n",
       "      <td>15.0</td>\n",
       "      <td>211.666667</td>\n",
       "      <td>4.000000</td>\n",
       "      <td>-8.666667</td>\n",
       "      <td>0.336020</td>\n",
       "      <td>0.724279</td>\n",
       "      <td>2</td>\n",
       "    </tr>\n",
       "    <tr>\n",
       "      <th>17</th>\n",
       "      <td>17</td>\n",
       "      <td>정광희</td>\n",
       "      <td>크랭커</td>\n",
       "      <td>㈜진승</td>\n",
       "      <td>182</td>\n",
       "      <td>26</td>\n",
       "      <td>22</td>\n",
       "      <td>1971-06-03</td>\n",
       "      <td>72</td>\n",
       "      <td>오른손</td>\n",
       "      <td>16.0</td>\n",
       "      <td>249.333333</td>\n",
       "      <td>6.000000</td>\n",
       "      <td>-10.333333</td>\n",
       "      <td>0.755413</td>\n",
       "      <td>0.711982</td>\n",
       "      <td>2</td>\n",
       "    </tr>\n",
       "    <tr>\n",
       "      <th>18</th>\n",
       "      <td>18</td>\n",
       "      <td>정준오</td>\n",
       "      <td>크랭커</td>\n",
       "      <td>미스틱</td>\n",
       "      <td>173</td>\n",
       "      <td>8</td>\n",
       "      <td>3</td>\n",
       "      <td>1985-01-10</td>\n",
       "      <td>79</td>\n",
       "      <td>왼손</td>\n",
       "      <td>15.0</td>\n",
       "      <td>227.666667</td>\n",
       "      <td>3.666667</td>\n",
       "      <td>-8.666667</td>\n",
       "      <td>0.932628</td>\n",
       "      <td>0.722823</td>\n",
       "      <td>2</td>\n",
       "    </tr>\n",
       "    <tr>\n",
       "      <th>19</th>\n",
       "      <td>19</td>\n",
       "      <td>강민석</td>\n",
       "      <td>크랭커</td>\n",
       "      <td>엠케이트레이딩</td>\n",
       "      <td>175</td>\n",
       "      <td>9</td>\n",
       "      <td>7</td>\n",
       "      <td>1996-11-24</td>\n",
       "      <td>83</td>\n",
       "      <td>왼손</td>\n",
       "      <td>15.0</td>\n",
       "      <td>211.666667</td>\n",
       "      <td>3.666667</td>\n",
       "      <td>-10.000000</td>\n",
       "      <td>0.311959</td>\n",
       "      <td>0.793972</td>\n",
       "      <td>2</td>\n",
       "    </tr>\n",
       "  </tbody>\n",
       "</table>\n",
       "</div>"
      ],
      "text/plain": [
       "    Unnamed: 0 name throws     team  height  exp  pro_exp       birth  weight  \\\n",
       "10          10  정연광    크랭커       없음     175    6        1  1994-05-23      94   \n",
       "11          11  정태화    크랭커      DSD     178   35       25  1967-02-28      72   \n",
       "12          12  박성진    덤리스       없음     170   15        6  1982-06-16      75   \n",
       "13          13  최원영    크랭커   미스틱브래그     175   26       13  1981-07-04     105   \n",
       "14          14  김정현    투핸드    핑거하우스     182   12        9  1978-07-31      80   \n",
       "15          15  김태건   스트로커     명인공조     174   18        4  1973-12-15      65   \n",
       "16          16  오규석    크랭커   sports     176   14        6  1990-09-11      75   \n",
       "17          17  정광희    크랭커      ㈜진승     182   26       22  1971-06-03      72   \n",
       "18          18  정준오    크랭커      미스틱     173    8        3  1985-01-10      79   \n",
       "19          19  강민석    크랭커  엠케이트레이딩     175    9        7  1996-11-24      83   \n",
       "\n",
       "   hand  ball_pound     TOT_AVG    CON_ST     L_READ  OVERCOME  SPARE_SUC  \\\n",
       "10  오른손        15.0  213.000000  3.333333  -9.666667  0.634618   0.556406   \n",
       "11  오른손        16.0  223.500000  4.750000  -9.000000  0.549980   0.627932   \n",
       "12  오른손        15.0  195.750000  3.000000  -8.000000  0.450006   0.686220   \n",
       "13  오른손        16.0  226.750000  5.250000 -10.000000  0.427389   0.821683   \n",
       "14  오른손        15.0  211.666667  3.333333  -9.666667  0.722074   0.739415   \n",
       "15  오른손        15.0  214.666667  3.666667  -8.000000  0.361171   0.794774   \n",
       "16  오른손        15.0  211.666667  4.000000  -8.666667  0.336020   0.724279   \n",
       "17  오른손        16.0  249.333333  6.000000 -10.333333  0.755413   0.711982   \n",
       "18   왼손        15.0  227.666667  3.666667  -8.666667  0.932628   0.722823   \n",
       "19   왼손        15.0  211.666667  3.666667 -10.000000  0.311959   0.793972   \n",
       "\n",
       "    throws_num  \n",
       "10           2  \n",
       "11           2  \n",
       "12           0  \n",
       "13           2  \n",
       "14           3  \n",
       "15           1  \n",
       "16           2  \n",
       "17           2  \n",
       "18           2  \n",
       "19           2  "
      ]
     },
     "execution_count": 103,
     "metadata": {},
     "output_type": "execute_result"
    }
   ],
   "source": [
    "bowling_m['throws_num']= le.transform(bowling_m['throws'])  #'덤리스', '스트로커', '크랭커', '투핸드' = 0 ,1 ,2, 3 \n",
    "bowling_m.tail(10)"
   ]
  },
  {
   "cell_type": "code",
   "execution_count": 104,
   "metadata": {},
   "outputs": [
    {
     "data": {
      "text/plain": [
       "LabelEncoder()"
      ]
     },
     "execution_count": 104,
     "metadata": {},
     "output_type": "execute_result"
    }
   ],
   "source": [
    "le=LabelEncoder()\n",
    "le.fit(bowling_m['team'])"
   ]
  },
  {
   "cell_type": "code",
   "execution_count": 105,
   "metadata": {},
   "outputs": [
    {
     "data": {
      "text/plain": [
       "array(['Brunswick', 'DSD', 'GRIP', 'Radical', 'sports', '㈜진승', '글로리아',\n",
       "       '명인공조', '미스틱', '미스틱브래그', '없음', '엠케이트레이딩', '트레이딩', '퍼펙트코리아',\n",
       "       '핑거하우스'], dtype=object)"
      ]
     },
     "execution_count": 105,
     "metadata": {},
     "output_type": "execute_result"
    }
   ],
   "source": [
    "le.classes_"
   ]
  },
  {
   "cell_type": "code",
   "execution_count": 106,
   "metadata": {},
   "outputs": [
    {
     "data": {
      "text/html": [
       "<div>\n",
       "<style scoped>\n",
       "    .dataframe tbody tr th:only-of-type {\n",
       "        vertical-align: middle;\n",
       "    }\n",
       "\n",
       "    .dataframe tbody tr th {\n",
       "        vertical-align: top;\n",
       "    }\n",
       "\n",
       "    .dataframe thead th {\n",
       "        text-align: right;\n",
       "    }\n",
       "</style>\n",
       "<table border=\"1\" class=\"dataframe\">\n",
       "  <thead>\n",
       "    <tr style=\"text-align: right;\">\n",
       "      <th></th>\n",
       "      <th>Unnamed: 0</th>\n",
       "      <th>name</th>\n",
       "      <th>throws</th>\n",
       "      <th>team</th>\n",
       "      <th>height</th>\n",
       "      <th>exp</th>\n",
       "      <th>pro_exp</th>\n",
       "      <th>birth</th>\n",
       "      <th>weight</th>\n",
       "      <th>hand</th>\n",
       "      <th>ball_pound</th>\n",
       "      <th>TOT_AVG</th>\n",
       "      <th>CON_ST</th>\n",
       "      <th>L_READ</th>\n",
       "      <th>OVERCOME</th>\n",
       "      <th>SPARE_SUC</th>\n",
       "      <th>throws_num</th>\n",
       "      <th>team_num</th>\n",
       "    </tr>\n",
       "  </thead>\n",
       "  <tbody>\n",
       "    <tr>\n",
       "      <th>0</th>\n",
       "      <td>0</td>\n",
       "      <td>김진혁</td>\n",
       "      <td>크랭커</td>\n",
       "      <td>GRIP</td>\n",
       "      <td>180</td>\n",
       "      <td>23</td>\n",
       "      <td>3</td>\n",
       "      <td>1986-07-03</td>\n",
       "      <td>60</td>\n",
       "      <td>왼손</td>\n",
       "      <td>15.0</td>\n",
       "      <td>215.8</td>\n",
       "      <td>4.40</td>\n",
       "      <td>-9.000000</td>\n",
       "      <td>0.652252</td>\n",
       "      <td>0.811789</td>\n",
       "      <td>2</td>\n",
       "      <td>2</td>\n",
       "    </tr>\n",
       "    <tr>\n",
       "      <th>1</th>\n",
       "      <td>1</td>\n",
       "      <td>한재호</td>\n",
       "      <td>스트로커</td>\n",
       "      <td>퍼펙트코리아</td>\n",
       "      <td>173</td>\n",
       "      <td>22</td>\n",
       "      <td>3</td>\n",
       "      <td>1984-10-03</td>\n",
       "      <td>79</td>\n",
       "      <td>오른손</td>\n",
       "      <td>15.0</td>\n",
       "      <td>246.0</td>\n",
       "      <td>5.75</td>\n",
       "      <td>-9.750000</td>\n",
       "      <td>0.687281</td>\n",
       "      <td>0.659609</td>\n",
       "      <td>1</td>\n",
       "      <td>13</td>\n",
       "    </tr>\n",
       "    <tr>\n",
       "      <th>2</th>\n",
       "      <td>2</td>\n",
       "      <td>김홍기</td>\n",
       "      <td>크랭커</td>\n",
       "      <td>없음</td>\n",
       "      <td>179</td>\n",
       "      <td>13</td>\n",
       "      <td>4</td>\n",
       "      <td>1993-10-24</td>\n",
       "      <td>130</td>\n",
       "      <td>오른손</td>\n",
       "      <td>15.0</td>\n",
       "      <td>190.5</td>\n",
       "      <td>2.75</td>\n",
       "      <td>-9.250000</td>\n",
       "      <td>0.475010</td>\n",
       "      <td>0.542429</td>\n",
       "      <td>2</td>\n",
       "      <td>10</td>\n",
       "    </tr>\n",
       "    <tr>\n",
       "      <th>3</th>\n",
       "      <td>3</td>\n",
       "      <td>최성일</td>\n",
       "      <td>스트로커</td>\n",
       "      <td>트레이딩</td>\n",
       "      <td>175</td>\n",
       "      <td>10</td>\n",
       "      <td>8</td>\n",
       "      <td>1981-08-01</td>\n",
       "      <td>72</td>\n",
       "      <td>오른손</td>\n",
       "      <td>15.0</td>\n",
       "      <td>212.5</td>\n",
       "      <td>4.00</td>\n",
       "      <td>-8.750000</td>\n",
       "      <td>0.455561</td>\n",
       "      <td>0.768218</td>\n",
       "      <td>1</td>\n",
       "      <td>12</td>\n",
       "    </tr>\n",
       "    <tr>\n",
       "      <th>4</th>\n",
       "      <td>4</td>\n",
       "      <td>공병희</td>\n",
       "      <td>스트로커</td>\n",
       "      <td>Brunswick</td>\n",
       "      <td>167</td>\n",
       "      <td>31</td>\n",
       "      <td>6</td>\n",
       "      <td>1973-03-29</td>\n",
       "      <td>70</td>\n",
       "      <td>왼손</td>\n",
       "      <td>15.0</td>\n",
       "      <td>172.0</td>\n",
       "      <td>2.00</td>\n",
       "      <td>-8.666667</td>\n",
       "      <td>0.688754</td>\n",
       "      <td>0.467551</td>\n",
       "      <td>1</td>\n",
       "      <td>0</td>\n",
       "    </tr>\n",
       "  </tbody>\n",
       "</table>\n",
       "</div>"
      ],
      "text/plain": [
       "   Unnamed: 0 name throws       team  height  exp  pro_exp       birth  \\\n",
       "0           0  김진혁    크랭커       GRIP     180   23        3  1986-07-03   \n",
       "1           1  한재호   스트로커     퍼펙트코리아     173   22        3  1984-10-03   \n",
       "2           2  김홍기    크랭커         없음     179   13        4  1993-10-24   \n",
       "3           3  최성일   스트로커       트레이딩     175   10        8  1981-08-01   \n",
       "4           4  공병희   스트로커  Brunswick     167   31        6  1973-03-29   \n",
       "\n",
       "   weight hand  ball_pound  TOT_AVG  CON_ST    L_READ  OVERCOME  SPARE_SUC  \\\n",
       "0      60   왼손        15.0    215.8    4.40 -9.000000  0.652252   0.811789   \n",
       "1      79  오른손        15.0    246.0    5.75 -9.750000  0.687281   0.659609   \n",
       "2     130  오른손        15.0    190.5    2.75 -9.250000  0.475010   0.542429   \n",
       "3      72  오른손        15.0    212.5    4.00 -8.750000  0.455561   0.768218   \n",
       "4      70   왼손        15.0    172.0    2.00 -8.666667  0.688754   0.467551   \n",
       "\n",
       "   throws_num  team_num  \n",
       "0           2         2  \n",
       "1           1        13  \n",
       "2           2        10  \n",
       "3           1        12  \n",
       "4           1         0  "
      ]
     },
     "execution_count": 106,
     "metadata": {},
     "output_type": "execute_result"
    }
   ],
   "source": [
    "bowling_m['team_num']= le.transform(bowling_m['team']) \n",
    "bowling_m.head()"
   ]
  },
  {
   "cell_type": "code",
   "execution_count": 107,
   "metadata": {},
   "outputs": [
    {
     "data": {
      "text/plain": [
       "LabelEncoder()"
      ]
     },
     "execution_count": 107,
     "metadata": {},
     "output_type": "execute_result"
    }
   ],
   "source": [
    "le=LabelEncoder()\n",
    "le.fit(bowling_m['hand'])"
   ]
  },
  {
   "cell_type": "code",
   "execution_count": 108,
   "metadata": {},
   "outputs": [
    {
     "data": {
      "text/plain": [
       "array(['오른손', '왼손'], dtype=object)"
      ]
     },
     "execution_count": 108,
     "metadata": {},
     "output_type": "execute_result"
    }
   ],
   "source": [
    "le.classes_"
   ]
  },
  {
   "cell_type": "code",
   "execution_count": 109,
   "metadata": {},
   "outputs": [
    {
     "data": {
      "text/html": [
       "<div>\n",
       "<style scoped>\n",
       "    .dataframe tbody tr th:only-of-type {\n",
       "        vertical-align: middle;\n",
       "    }\n",
       "\n",
       "    .dataframe tbody tr th {\n",
       "        vertical-align: top;\n",
       "    }\n",
       "\n",
       "    .dataframe thead th {\n",
       "        text-align: right;\n",
       "    }\n",
       "</style>\n",
       "<table border=\"1\" class=\"dataframe\">\n",
       "  <thead>\n",
       "    <tr style=\"text-align: right;\">\n",
       "      <th></th>\n",
       "      <th>Unnamed: 0</th>\n",
       "      <th>name</th>\n",
       "      <th>throws</th>\n",
       "      <th>team</th>\n",
       "      <th>height</th>\n",
       "      <th>exp</th>\n",
       "      <th>pro_exp</th>\n",
       "      <th>birth</th>\n",
       "      <th>weight</th>\n",
       "      <th>hand</th>\n",
       "      <th>ball_pound</th>\n",
       "      <th>TOT_AVG</th>\n",
       "      <th>CON_ST</th>\n",
       "      <th>L_READ</th>\n",
       "      <th>OVERCOME</th>\n",
       "      <th>SPARE_SUC</th>\n",
       "      <th>throws_num</th>\n",
       "      <th>team_num</th>\n",
       "      <th>hand_num</th>\n",
       "    </tr>\n",
       "  </thead>\n",
       "  <tbody>\n",
       "    <tr>\n",
       "      <th>10</th>\n",
       "      <td>10</td>\n",
       "      <td>정연광</td>\n",
       "      <td>크랭커</td>\n",
       "      <td>없음</td>\n",
       "      <td>175</td>\n",
       "      <td>6</td>\n",
       "      <td>1</td>\n",
       "      <td>1994-05-23</td>\n",
       "      <td>94</td>\n",
       "      <td>오른손</td>\n",
       "      <td>15.0</td>\n",
       "      <td>213.000000</td>\n",
       "      <td>3.333333</td>\n",
       "      <td>-9.666667</td>\n",
       "      <td>0.634618</td>\n",
       "      <td>0.556406</td>\n",
       "      <td>2</td>\n",
       "      <td>10</td>\n",
       "      <td>0</td>\n",
       "    </tr>\n",
       "    <tr>\n",
       "      <th>11</th>\n",
       "      <td>11</td>\n",
       "      <td>정태화</td>\n",
       "      <td>크랭커</td>\n",
       "      <td>DSD</td>\n",
       "      <td>178</td>\n",
       "      <td>35</td>\n",
       "      <td>25</td>\n",
       "      <td>1967-02-28</td>\n",
       "      <td>72</td>\n",
       "      <td>오른손</td>\n",
       "      <td>16.0</td>\n",
       "      <td>223.500000</td>\n",
       "      <td>4.750000</td>\n",
       "      <td>-9.000000</td>\n",
       "      <td>0.549980</td>\n",
       "      <td>0.627932</td>\n",
       "      <td>2</td>\n",
       "      <td>1</td>\n",
       "      <td>0</td>\n",
       "    </tr>\n",
       "    <tr>\n",
       "      <th>12</th>\n",
       "      <td>12</td>\n",
       "      <td>박성진</td>\n",
       "      <td>덤리스</td>\n",
       "      <td>없음</td>\n",
       "      <td>170</td>\n",
       "      <td>15</td>\n",
       "      <td>6</td>\n",
       "      <td>1982-06-16</td>\n",
       "      <td>75</td>\n",
       "      <td>오른손</td>\n",
       "      <td>15.0</td>\n",
       "      <td>195.750000</td>\n",
       "      <td>3.000000</td>\n",
       "      <td>-8.000000</td>\n",
       "      <td>0.450006</td>\n",
       "      <td>0.686220</td>\n",
       "      <td>0</td>\n",
       "      <td>10</td>\n",
       "      <td>0</td>\n",
       "    </tr>\n",
       "    <tr>\n",
       "      <th>13</th>\n",
       "      <td>13</td>\n",
       "      <td>최원영</td>\n",
       "      <td>크랭커</td>\n",
       "      <td>미스틱브래그</td>\n",
       "      <td>175</td>\n",
       "      <td>26</td>\n",
       "      <td>13</td>\n",
       "      <td>1981-07-04</td>\n",
       "      <td>105</td>\n",
       "      <td>오른손</td>\n",
       "      <td>16.0</td>\n",
       "      <td>226.750000</td>\n",
       "      <td>5.250000</td>\n",
       "      <td>-10.000000</td>\n",
       "      <td>0.427389</td>\n",
       "      <td>0.821683</td>\n",
       "      <td>2</td>\n",
       "      <td>9</td>\n",
       "      <td>0</td>\n",
       "    </tr>\n",
       "    <tr>\n",
       "      <th>14</th>\n",
       "      <td>14</td>\n",
       "      <td>김정현</td>\n",
       "      <td>투핸드</td>\n",
       "      <td>핑거하우스</td>\n",
       "      <td>182</td>\n",
       "      <td>12</td>\n",
       "      <td>9</td>\n",
       "      <td>1978-07-31</td>\n",
       "      <td>80</td>\n",
       "      <td>오른손</td>\n",
       "      <td>15.0</td>\n",
       "      <td>211.666667</td>\n",
       "      <td>3.333333</td>\n",
       "      <td>-9.666667</td>\n",
       "      <td>0.722074</td>\n",
       "      <td>0.739415</td>\n",
       "      <td>3</td>\n",
       "      <td>14</td>\n",
       "      <td>0</td>\n",
       "    </tr>\n",
       "    <tr>\n",
       "      <th>15</th>\n",
       "      <td>15</td>\n",
       "      <td>김태건</td>\n",
       "      <td>스트로커</td>\n",
       "      <td>명인공조</td>\n",
       "      <td>174</td>\n",
       "      <td>18</td>\n",
       "      <td>4</td>\n",
       "      <td>1973-12-15</td>\n",
       "      <td>65</td>\n",
       "      <td>오른손</td>\n",
       "      <td>15.0</td>\n",
       "      <td>214.666667</td>\n",
       "      <td>3.666667</td>\n",
       "      <td>-8.000000</td>\n",
       "      <td>0.361171</td>\n",
       "      <td>0.794774</td>\n",
       "      <td>1</td>\n",
       "      <td>7</td>\n",
       "      <td>0</td>\n",
       "    </tr>\n",
       "    <tr>\n",
       "      <th>16</th>\n",
       "      <td>16</td>\n",
       "      <td>오규석</td>\n",
       "      <td>크랭커</td>\n",
       "      <td>sports</td>\n",
       "      <td>176</td>\n",
       "      <td>14</td>\n",
       "      <td>6</td>\n",
       "      <td>1990-09-11</td>\n",
       "      <td>75</td>\n",
       "      <td>오른손</td>\n",
       "      <td>15.0</td>\n",
       "      <td>211.666667</td>\n",
       "      <td>4.000000</td>\n",
       "      <td>-8.666667</td>\n",
       "      <td>0.336020</td>\n",
       "      <td>0.724279</td>\n",
       "      <td>2</td>\n",
       "      <td>4</td>\n",
       "      <td>0</td>\n",
       "    </tr>\n",
       "    <tr>\n",
       "      <th>17</th>\n",
       "      <td>17</td>\n",
       "      <td>정광희</td>\n",
       "      <td>크랭커</td>\n",
       "      <td>㈜진승</td>\n",
       "      <td>182</td>\n",
       "      <td>26</td>\n",
       "      <td>22</td>\n",
       "      <td>1971-06-03</td>\n",
       "      <td>72</td>\n",
       "      <td>오른손</td>\n",
       "      <td>16.0</td>\n",
       "      <td>249.333333</td>\n",
       "      <td>6.000000</td>\n",
       "      <td>-10.333333</td>\n",
       "      <td>0.755413</td>\n",
       "      <td>0.711982</td>\n",
       "      <td>2</td>\n",
       "      <td>5</td>\n",
       "      <td>0</td>\n",
       "    </tr>\n",
       "    <tr>\n",
       "      <th>18</th>\n",
       "      <td>18</td>\n",
       "      <td>정준오</td>\n",
       "      <td>크랭커</td>\n",
       "      <td>미스틱</td>\n",
       "      <td>173</td>\n",
       "      <td>8</td>\n",
       "      <td>3</td>\n",
       "      <td>1985-01-10</td>\n",
       "      <td>79</td>\n",
       "      <td>왼손</td>\n",
       "      <td>15.0</td>\n",
       "      <td>227.666667</td>\n",
       "      <td>3.666667</td>\n",
       "      <td>-8.666667</td>\n",
       "      <td>0.932628</td>\n",
       "      <td>0.722823</td>\n",
       "      <td>2</td>\n",
       "      <td>8</td>\n",
       "      <td>1</td>\n",
       "    </tr>\n",
       "    <tr>\n",
       "      <th>19</th>\n",
       "      <td>19</td>\n",
       "      <td>강민석</td>\n",
       "      <td>크랭커</td>\n",
       "      <td>엠케이트레이딩</td>\n",
       "      <td>175</td>\n",
       "      <td>9</td>\n",
       "      <td>7</td>\n",
       "      <td>1996-11-24</td>\n",
       "      <td>83</td>\n",
       "      <td>왼손</td>\n",
       "      <td>15.0</td>\n",
       "      <td>211.666667</td>\n",
       "      <td>3.666667</td>\n",
       "      <td>-10.000000</td>\n",
       "      <td>0.311959</td>\n",
       "      <td>0.793972</td>\n",
       "      <td>2</td>\n",
       "      <td>11</td>\n",
       "      <td>1</td>\n",
       "    </tr>\n",
       "  </tbody>\n",
       "</table>\n",
       "</div>"
      ],
      "text/plain": [
       "    Unnamed: 0 name throws     team  height  exp  pro_exp       birth  weight  \\\n",
       "10          10  정연광    크랭커       없음     175    6        1  1994-05-23      94   \n",
       "11          11  정태화    크랭커      DSD     178   35       25  1967-02-28      72   \n",
       "12          12  박성진    덤리스       없음     170   15        6  1982-06-16      75   \n",
       "13          13  최원영    크랭커   미스틱브래그     175   26       13  1981-07-04     105   \n",
       "14          14  김정현    투핸드    핑거하우스     182   12        9  1978-07-31      80   \n",
       "15          15  김태건   스트로커     명인공조     174   18        4  1973-12-15      65   \n",
       "16          16  오규석    크랭커   sports     176   14        6  1990-09-11      75   \n",
       "17          17  정광희    크랭커      ㈜진승     182   26       22  1971-06-03      72   \n",
       "18          18  정준오    크랭커      미스틱     173    8        3  1985-01-10      79   \n",
       "19          19  강민석    크랭커  엠케이트레이딩     175    9        7  1996-11-24      83   \n",
       "\n",
       "   hand  ball_pound     TOT_AVG    CON_ST     L_READ  OVERCOME  SPARE_SUC  \\\n",
       "10  오른손        15.0  213.000000  3.333333  -9.666667  0.634618   0.556406   \n",
       "11  오른손        16.0  223.500000  4.750000  -9.000000  0.549980   0.627932   \n",
       "12  오른손        15.0  195.750000  3.000000  -8.000000  0.450006   0.686220   \n",
       "13  오른손        16.0  226.750000  5.250000 -10.000000  0.427389   0.821683   \n",
       "14  오른손        15.0  211.666667  3.333333  -9.666667  0.722074   0.739415   \n",
       "15  오른손        15.0  214.666667  3.666667  -8.000000  0.361171   0.794774   \n",
       "16  오른손        15.0  211.666667  4.000000  -8.666667  0.336020   0.724279   \n",
       "17  오른손        16.0  249.333333  6.000000 -10.333333  0.755413   0.711982   \n",
       "18   왼손        15.0  227.666667  3.666667  -8.666667  0.932628   0.722823   \n",
       "19   왼손        15.0  211.666667  3.666667 -10.000000  0.311959   0.793972   \n",
       "\n",
       "    throws_num  team_num  hand_num  \n",
       "10           2        10         0  \n",
       "11           2         1         0  \n",
       "12           0        10         0  \n",
       "13           2         9         0  \n",
       "14           3        14         0  \n",
       "15           1         7         0  \n",
       "16           2         4         0  \n",
       "17           2         5         0  \n",
       "18           2         8         1  \n",
       "19           2        11         1  "
      ]
     },
     "execution_count": 109,
     "metadata": {},
     "output_type": "execute_result"
    }
   ],
   "source": [
    "bowling_m['hand_num']= le.transform(bowling_m['hand'])  # '오른손', '왼손'= 0 ,1  \n",
    "bowling_m.tail(10)"
   ]
  },
  {
   "cell_type": "code",
   "execution_count": null,
   "metadata": {},
   "outputs": [],
   "source": []
  },
  {
   "cell_type": "code",
   "execution_count": 110,
   "metadata": {},
   "outputs": [
    {
     "data": {
      "text/html": [
       "<div>\n",
       "<style scoped>\n",
       "    .dataframe tbody tr th:only-of-type {\n",
       "        vertical-align: middle;\n",
       "    }\n",
       "\n",
       "    .dataframe tbody tr th {\n",
       "        vertical-align: top;\n",
       "    }\n",
       "\n",
       "    .dataframe thead th {\n",
       "        text-align: right;\n",
       "    }\n",
       "</style>\n",
       "<table border=\"1\" class=\"dataframe\">\n",
       "  <thead>\n",
       "    <tr style=\"text-align: right;\">\n",
       "      <th></th>\n",
       "      <th>Unnamed: 0</th>\n",
       "      <th>name</th>\n",
       "      <th>team</th>\n",
       "      <th>height</th>\n",
       "      <th>exp</th>\n",
       "      <th>pro_exp</th>\n",
       "      <th>birth</th>\n",
       "      <th>weight</th>\n",
       "      <th>hand</th>\n",
       "      <th>ball_pound</th>\n",
       "      <th>TOT_AVG</th>\n",
       "      <th>CON_ST</th>\n",
       "      <th>L_READ</th>\n",
       "      <th>OVERCOME</th>\n",
       "      <th>SPARE_SUC</th>\n",
       "      <th>throws_num</th>\n",
       "      <th>team_num</th>\n",
       "      <th>hand_num</th>\n",
       "    </tr>\n",
       "  </thead>\n",
       "  <tbody>\n",
       "    <tr>\n",
       "      <th>0</th>\n",
       "      <td>0</td>\n",
       "      <td>김진혁</td>\n",
       "      <td>GRIP</td>\n",
       "      <td>180</td>\n",
       "      <td>23</td>\n",
       "      <td>3</td>\n",
       "      <td>1986-07-03</td>\n",
       "      <td>60</td>\n",
       "      <td>왼손</td>\n",
       "      <td>15.0</td>\n",
       "      <td>215.8</td>\n",
       "      <td>4.40</td>\n",
       "      <td>-9.000000</td>\n",
       "      <td>0.652252</td>\n",
       "      <td>0.811789</td>\n",
       "      <td>2</td>\n",
       "      <td>2</td>\n",
       "      <td>1</td>\n",
       "    </tr>\n",
       "    <tr>\n",
       "      <th>1</th>\n",
       "      <td>1</td>\n",
       "      <td>한재호</td>\n",
       "      <td>퍼펙트코리아</td>\n",
       "      <td>173</td>\n",
       "      <td>22</td>\n",
       "      <td>3</td>\n",
       "      <td>1984-10-03</td>\n",
       "      <td>79</td>\n",
       "      <td>오른손</td>\n",
       "      <td>15.0</td>\n",
       "      <td>246.0</td>\n",
       "      <td>5.75</td>\n",
       "      <td>-9.750000</td>\n",
       "      <td>0.687281</td>\n",
       "      <td>0.659609</td>\n",
       "      <td>1</td>\n",
       "      <td>13</td>\n",
       "      <td>0</td>\n",
       "    </tr>\n",
       "    <tr>\n",
       "      <th>2</th>\n",
       "      <td>2</td>\n",
       "      <td>김홍기</td>\n",
       "      <td>없음</td>\n",
       "      <td>179</td>\n",
       "      <td>13</td>\n",
       "      <td>4</td>\n",
       "      <td>1993-10-24</td>\n",
       "      <td>130</td>\n",
       "      <td>오른손</td>\n",
       "      <td>15.0</td>\n",
       "      <td>190.5</td>\n",
       "      <td>2.75</td>\n",
       "      <td>-9.250000</td>\n",
       "      <td>0.475010</td>\n",
       "      <td>0.542429</td>\n",
       "      <td>2</td>\n",
       "      <td>10</td>\n",
       "      <td>0</td>\n",
       "    </tr>\n",
       "    <tr>\n",
       "      <th>3</th>\n",
       "      <td>3</td>\n",
       "      <td>최성일</td>\n",
       "      <td>트레이딩</td>\n",
       "      <td>175</td>\n",
       "      <td>10</td>\n",
       "      <td>8</td>\n",
       "      <td>1981-08-01</td>\n",
       "      <td>72</td>\n",
       "      <td>오른손</td>\n",
       "      <td>15.0</td>\n",
       "      <td>212.5</td>\n",
       "      <td>4.00</td>\n",
       "      <td>-8.750000</td>\n",
       "      <td>0.455561</td>\n",
       "      <td>0.768218</td>\n",
       "      <td>1</td>\n",
       "      <td>12</td>\n",
       "      <td>0</td>\n",
       "    </tr>\n",
       "    <tr>\n",
       "      <th>4</th>\n",
       "      <td>4</td>\n",
       "      <td>공병희</td>\n",
       "      <td>Brunswick</td>\n",
       "      <td>167</td>\n",
       "      <td>31</td>\n",
       "      <td>6</td>\n",
       "      <td>1973-03-29</td>\n",
       "      <td>70</td>\n",
       "      <td>왼손</td>\n",
       "      <td>15.0</td>\n",
       "      <td>172.0</td>\n",
       "      <td>2.00</td>\n",
       "      <td>-8.666667</td>\n",
       "      <td>0.688754</td>\n",
       "      <td>0.467551</td>\n",
       "      <td>1</td>\n",
       "      <td>0</td>\n",
       "      <td>1</td>\n",
       "    </tr>\n",
       "  </tbody>\n",
       "</table>\n",
       "</div>"
      ],
      "text/plain": [
       "   Unnamed: 0 name       team  height  exp  pro_exp       birth  weight hand  \\\n",
       "0           0  김진혁       GRIP     180   23        3  1986-07-03      60   왼손   \n",
       "1           1  한재호     퍼펙트코리아     173   22        3  1984-10-03      79  오른손   \n",
       "2           2  김홍기         없음     179   13        4  1993-10-24     130  오른손   \n",
       "3           3  최성일       트레이딩     175   10        8  1981-08-01      72  오른손   \n",
       "4           4  공병희  Brunswick     167   31        6  1973-03-29      70   왼손   \n",
       "\n",
       "   ball_pound  TOT_AVG  CON_ST    L_READ  OVERCOME  SPARE_SUC  throws_num  \\\n",
       "0        15.0    215.8    4.40 -9.000000  0.652252   0.811789           2   \n",
       "1        15.0    246.0    5.75 -9.750000  0.687281   0.659609           1   \n",
       "2        15.0    190.5    2.75 -9.250000  0.475010   0.542429           2   \n",
       "3        15.0    212.5    4.00 -8.750000  0.455561   0.768218           1   \n",
       "4        15.0    172.0    2.00 -8.666667  0.688754   0.467551           1   \n",
       "\n",
       "   team_num  hand_num  \n",
       "0         2         1  \n",
       "1        13         0  \n",
       "2        10         0  \n",
       "3        12         0  \n",
       "4         0         1  "
      ]
     },
     "execution_count": 110,
     "metadata": {},
     "output_type": "execute_result"
    }
   ],
   "source": [
    "bowling_m.drop('throws',axis=1,inplace=True)\n",
    "bowling_m.head()"
   ]
  },
  {
   "cell_type": "code",
   "execution_count": 111,
   "metadata": {},
   "outputs": [
    {
     "data": {
      "text/html": [
       "<div>\n",
       "<style scoped>\n",
       "    .dataframe tbody tr th:only-of-type {\n",
       "        vertical-align: middle;\n",
       "    }\n",
       "\n",
       "    .dataframe tbody tr th {\n",
       "        vertical-align: top;\n",
       "    }\n",
       "\n",
       "    .dataframe thead th {\n",
       "        text-align: right;\n",
       "    }\n",
       "</style>\n",
       "<table border=\"1\" class=\"dataframe\">\n",
       "  <thead>\n",
       "    <tr style=\"text-align: right;\">\n",
       "      <th></th>\n",
       "      <th>Unnamed: 0</th>\n",
       "      <th>name</th>\n",
       "      <th>height</th>\n",
       "      <th>exp</th>\n",
       "      <th>pro_exp</th>\n",
       "      <th>birth</th>\n",
       "      <th>weight</th>\n",
       "      <th>hand</th>\n",
       "      <th>ball_pound</th>\n",
       "      <th>TOT_AVG</th>\n",
       "      <th>CON_ST</th>\n",
       "      <th>L_READ</th>\n",
       "      <th>OVERCOME</th>\n",
       "      <th>SPARE_SUC</th>\n",
       "      <th>throws_num</th>\n",
       "      <th>team_num</th>\n",
       "      <th>hand_num</th>\n",
       "    </tr>\n",
       "  </thead>\n",
       "  <tbody>\n",
       "    <tr>\n",
       "      <th>0</th>\n",
       "      <td>0</td>\n",
       "      <td>김진혁</td>\n",
       "      <td>180</td>\n",
       "      <td>23</td>\n",
       "      <td>3</td>\n",
       "      <td>1986-07-03</td>\n",
       "      <td>60</td>\n",
       "      <td>왼손</td>\n",
       "      <td>15.0</td>\n",
       "      <td>215.8</td>\n",
       "      <td>4.40</td>\n",
       "      <td>-9.000000</td>\n",
       "      <td>0.652252</td>\n",
       "      <td>0.811789</td>\n",
       "      <td>2</td>\n",
       "      <td>2</td>\n",
       "      <td>1</td>\n",
       "    </tr>\n",
       "    <tr>\n",
       "      <th>1</th>\n",
       "      <td>1</td>\n",
       "      <td>한재호</td>\n",
       "      <td>173</td>\n",
       "      <td>22</td>\n",
       "      <td>3</td>\n",
       "      <td>1984-10-03</td>\n",
       "      <td>79</td>\n",
       "      <td>오른손</td>\n",
       "      <td>15.0</td>\n",
       "      <td>246.0</td>\n",
       "      <td>5.75</td>\n",
       "      <td>-9.750000</td>\n",
       "      <td>0.687281</td>\n",
       "      <td>0.659609</td>\n",
       "      <td>1</td>\n",
       "      <td>13</td>\n",
       "      <td>0</td>\n",
       "    </tr>\n",
       "    <tr>\n",
       "      <th>2</th>\n",
       "      <td>2</td>\n",
       "      <td>김홍기</td>\n",
       "      <td>179</td>\n",
       "      <td>13</td>\n",
       "      <td>4</td>\n",
       "      <td>1993-10-24</td>\n",
       "      <td>130</td>\n",
       "      <td>오른손</td>\n",
       "      <td>15.0</td>\n",
       "      <td>190.5</td>\n",
       "      <td>2.75</td>\n",
       "      <td>-9.250000</td>\n",
       "      <td>0.475010</td>\n",
       "      <td>0.542429</td>\n",
       "      <td>2</td>\n",
       "      <td>10</td>\n",
       "      <td>0</td>\n",
       "    </tr>\n",
       "    <tr>\n",
       "      <th>3</th>\n",
       "      <td>3</td>\n",
       "      <td>최성일</td>\n",
       "      <td>175</td>\n",
       "      <td>10</td>\n",
       "      <td>8</td>\n",
       "      <td>1981-08-01</td>\n",
       "      <td>72</td>\n",
       "      <td>오른손</td>\n",
       "      <td>15.0</td>\n",
       "      <td>212.5</td>\n",
       "      <td>4.00</td>\n",
       "      <td>-8.750000</td>\n",
       "      <td>0.455561</td>\n",
       "      <td>0.768218</td>\n",
       "      <td>1</td>\n",
       "      <td>12</td>\n",
       "      <td>0</td>\n",
       "    </tr>\n",
       "    <tr>\n",
       "      <th>4</th>\n",
       "      <td>4</td>\n",
       "      <td>공병희</td>\n",
       "      <td>167</td>\n",
       "      <td>31</td>\n",
       "      <td>6</td>\n",
       "      <td>1973-03-29</td>\n",
       "      <td>70</td>\n",
       "      <td>왼손</td>\n",
       "      <td>15.0</td>\n",
       "      <td>172.0</td>\n",
       "      <td>2.00</td>\n",
       "      <td>-8.666667</td>\n",
       "      <td>0.688754</td>\n",
       "      <td>0.467551</td>\n",
       "      <td>1</td>\n",
       "      <td>0</td>\n",
       "      <td>1</td>\n",
       "    </tr>\n",
       "  </tbody>\n",
       "</table>\n",
       "</div>"
      ],
      "text/plain": [
       "   Unnamed: 0 name  height  exp  pro_exp       birth  weight hand  ball_pound  \\\n",
       "0           0  김진혁     180   23        3  1986-07-03      60   왼손        15.0   \n",
       "1           1  한재호     173   22        3  1984-10-03      79  오른손        15.0   \n",
       "2           2  김홍기     179   13        4  1993-10-24     130  오른손        15.0   \n",
       "3           3  최성일     175   10        8  1981-08-01      72  오른손        15.0   \n",
       "4           4  공병희     167   31        6  1973-03-29      70   왼손        15.0   \n",
       "\n",
       "   TOT_AVG  CON_ST    L_READ  OVERCOME  SPARE_SUC  throws_num  team_num  \\\n",
       "0    215.8    4.40 -9.000000  0.652252   0.811789           2         2   \n",
       "1    246.0    5.75 -9.750000  0.687281   0.659609           1        13   \n",
       "2    190.5    2.75 -9.250000  0.475010   0.542429           2        10   \n",
       "3    212.5    4.00 -8.750000  0.455561   0.768218           1        12   \n",
       "4    172.0    2.00 -8.666667  0.688754   0.467551           1         0   \n",
       "\n",
       "   hand_num  \n",
       "0         1  \n",
       "1         0  \n",
       "2         0  \n",
       "3         0  \n",
       "4         1  "
      ]
     },
     "execution_count": 111,
     "metadata": {},
     "output_type": "execute_result"
    }
   ],
   "source": [
    "bowling_m.drop('team',axis=1,inplace=True)\n",
    "bowling_m.head()"
   ]
  },
  {
   "cell_type": "code",
   "execution_count": 112,
   "metadata": {},
   "outputs": [
    {
     "data": {
      "text/html": [
       "<div>\n",
       "<style scoped>\n",
       "    .dataframe tbody tr th:only-of-type {\n",
       "        vertical-align: middle;\n",
       "    }\n",
       "\n",
       "    .dataframe tbody tr th {\n",
       "        vertical-align: top;\n",
       "    }\n",
       "\n",
       "    .dataframe thead th {\n",
       "        text-align: right;\n",
       "    }\n",
       "</style>\n",
       "<table border=\"1\" class=\"dataframe\">\n",
       "  <thead>\n",
       "    <tr style=\"text-align: right;\">\n",
       "      <th></th>\n",
       "      <th>Unnamed: 0</th>\n",
       "      <th>name</th>\n",
       "      <th>height</th>\n",
       "      <th>exp</th>\n",
       "      <th>pro_exp</th>\n",
       "      <th>birth</th>\n",
       "      <th>weight</th>\n",
       "      <th>ball_pound</th>\n",
       "      <th>TOT_AVG</th>\n",
       "      <th>CON_ST</th>\n",
       "      <th>L_READ</th>\n",
       "      <th>OVERCOME</th>\n",
       "      <th>SPARE_SUC</th>\n",
       "      <th>throws_num</th>\n",
       "      <th>team_num</th>\n",
       "      <th>hand_num</th>\n",
       "    </tr>\n",
       "  </thead>\n",
       "  <tbody>\n",
       "    <tr>\n",
       "      <th>0</th>\n",
       "      <td>0</td>\n",
       "      <td>김진혁</td>\n",
       "      <td>180</td>\n",
       "      <td>23</td>\n",
       "      <td>3</td>\n",
       "      <td>1986-07-03</td>\n",
       "      <td>60</td>\n",
       "      <td>15.0</td>\n",
       "      <td>215.8</td>\n",
       "      <td>4.40</td>\n",
       "      <td>-9.000000</td>\n",
       "      <td>0.652252</td>\n",
       "      <td>0.811789</td>\n",
       "      <td>2</td>\n",
       "      <td>2</td>\n",
       "      <td>1</td>\n",
       "    </tr>\n",
       "    <tr>\n",
       "      <th>1</th>\n",
       "      <td>1</td>\n",
       "      <td>한재호</td>\n",
       "      <td>173</td>\n",
       "      <td>22</td>\n",
       "      <td>3</td>\n",
       "      <td>1984-10-03</td>\n",
       "      <td>79</td>\n",
       "      <td>15.0</td>\n",
       "      <td>246.0</td>\n",
       "      <td>5.75</td>\n",
       "      <td>-9.750000</td>\n",
       "      <td>0.687281</td>\n",
       "      <td>0.659609</td>\n",
       "      <td>1</td>\n",
       "      <td>13</td>\n",
       "      <td>0</td>\n",
       "    </tr>\n",
       "    <tr>\n",
       "      <th>2</th>\n",
       "      <td>2</td>\n",
       "      <td>김홍기</td>\n",
       "      <td>179</td>\n",
       "      <td>13</td>\n",
       "      <td>4</td>\n",
       "      <td>1993-10-24</td>\n",
       "      <td>130</td>\n",
       "      <td>15.0</td>\n",
       "      <td>190.5</td>\n",
       "      <td>2.75</td>\n",
       "      <td>-9.250000</td>\n",
       "      <td>0.475010</td>\n",
       "      <td>0.542429</td>\n",
       "      <td>2</td>\n",
       "      <td>10</td>\n",
       "      <td>0</td>\n",
       "    </tr>\n",
       "    <tr>\n",
       "      <th>3</th>\n",
       "      <td>3</td>\n",
       "      <td>최성일</td>\n",
       "      <td>175</td>\n",
       "      <td>10</td>\n",
       "      <td>8</td>\n",
       "      <td>1981-08-01</td>\n",
       "      <td>72</td>\n",
       "      <td>15.0</td>\n",
       "      <td>212.5</td>\n",
       "      <td>4.00</td>\n",
       "      <td>-8.750000</td>\n",
       "      <td>0.455561</td>\n",
       "      <td>0.768218</td>\n",
       "      <td>1</td>\n",
       "      <td>12</td>\n",
       "      <td>0</td>\n",
       "    </tr>\n",
       "    <tr>\n",
       "      <th>4</th>\n",
       "      <td>4</td>\n",
       "      <td>공병희</td>\n",
       "      <td>167</td>\n",
       "      <td>31</td>\n",
       "      <td>6</td>\n",
       "      <td>1973-03-29</td>\n",
       "      <td>70</td>\n",
       "      <td>15.0</td>\n",
       "      <td>172.0</td>\n",
       "      <td>2.00</td>\n",
       "      <td>-8.666667</td>\n",
       "      <td>0.688754</td>\n",
       "      <td>0.467551</td>\n",
       "      <td>1</td>\n",
       "      <td>0</td>\n",
       "      <td>1</td>\n",
       "    </tr>\n",
       "  </tbody>\n",
       "</table>\n",
       "</div>"
      ],
      "text/plain": [
       "   Unnamed: 0 name  height  exp  pro_exp       birth  weight  ball_pound  \\\n",
       "0           0  김진혁     180   23        3  1986-07-03      60        15.0   \n",
       "1           1  한재호     173   22        3  1984-10-03      79        15.0   \n",
       "2           2  김홍기     179   13        4  1993-10-24     130        15.0   \n",
       "3           3  최성일     175   10        8  1981-08-01      72        15.0   \n",
       "4           4  공병희     167   31        6  1973-03-29      70        15.0   \n",
       "\n",
       "   TOT_AVG  CON_ST    L_READ  OVERCOME  SPARE_SUC  throws_num  team_num  \\\n",
       "0    215.8    4.40 -9.000000  0.652252   0.811789           2         2   \n",
       "1    246.0    5.75 -9.750000  0.687281   0.659609           1        13   \n",
       "2    190.5    2.75 -9.250000  0.475010   0.542429           2        10   \n",
       "3    212.5    4.00 -8.750000  0.455561   0.768218           1        12   \n",
       "4    172.0    2.00 -8.666667  0.688754   0.467551           1         0   \n",
       "\n",
       "   hand_num  \n",
       "0         1  \n",
       "1         0  \n",
       "2         0  \n",
       "3         0  \n",
       "4         1  "
      ]
     },
     "execution_count": 112,
     "metadata": {},
     "output_type": "execute_result"
    }
   ],
   "source": [
    "bowling_m.drop('hand',axis=1,inplace=True)\n",
    "bowling_m.head()"
   ]
  },
  {
   "cell_type": "markdown",
   "metadata": {},
   "source": [
    "---"
   ]
  },
  {
   "cell_type": "markdown",
   "metadata": {},
   "source": [
    "## 2. 데이터 확인해보기\n"
   ]
  },
  {
   "cell_type": "code",
   "execution_count": 30,
   "metadata": {},
   "outputs": [],
   "source": [
    "from sklearn.model_selection import train_test_split\n",
    "from sklearn.tree import DecisionTreeClassifier\n",
    "from sklearn.metrics import accuracy_score\n",
    "import seaborn as sns\n",
    "import matplotlib.pyplot as plt"
   ]
  },
  {
   "cell_type": "code",
   "execution_count": null,
   "metadata": {},
   "outputs": [],
   "source": []
  },
  {
   "cell_type": "code",
   "execution_count": 58,
   "metadata": {},
   "outputs": [
    {
     "data": {
      "text/plain": [
       "<Figure size 864x432 with 0 Axes>"
      ]
     },
     "metadata": {},
     "output_type": "display_data"
    },
    {
     "data": {
      "image/png": "[encoded data removed]",
      "text/plain": [
       "<Figure size 2520x2520 with 210 Axes>"
      ]
     },
     "metadata": {
      "needs_background": "light"
     },
     "output_type": "display_data"
    }
   ],
   "source": [
    "plt.figure(figsize=(12,6))\n",
    "sns.pairplot(data=bowling_m);\n"
   ]
  },
  {
   "cell_type": "markdown",
   "metadata": {},
   "source": [
    " >> TOT_AVG 와 CON_ST\n"
   ]
  },
  {
   "cell_type": "code",
   "execution_count": 59,
   "metadata": {},
   "outputs": [
    {
     "data": {
      "image/png": "[encoded data removed]",
      "text/plain": [
       "<Figure size 360x360 with 1 Axes>"
      ]
     },
     "metadata": {
      "needs_background": "light"
     },
     "output_type": "display_data"
    }
   ],
   "source": [
    "# 상관관계 확인\n",
    "\n",
    "sns.lmplot(x='TOT_AVG', y= 'CON_ST', data=bowling_m);"
   ]
  },
  {
   "cell_type": "markdown",
   "metadata": {},
   "source": [
    ">> 프로경력과 체중은?"
   ]
  },
  {
   "cell_type": "code",
   "execution_count": 60,
   "metadata": {},
   "outputs": [
    {
     "data": {
      "image/png": "[encoded data removed]",
      "text/plain": [
       "<Figure size 360x360 with 1 Axes>"
      ]
     },
     "metadata": {
      "needs_background": "light"
     },
     "output_type": "display_data"
    },
    {
     "data": {
      "image/png": "[encoded data removed]",
      "text/plain": [
       "<Figure size 360x360 with 1 Axes>"
      ]
     },
     "metadata": {
      "needs_background": "light"
     },
     "output_type": "display_data"
    }
   ],
   "source": [
    "sns.lmplot(x='TOT_AVG', y= 'pro_exp', data=bowling_m);\n",
    "sns.lmplot(x='TOT_AVG', y= 'weight', data=bowling_m);\n"
   ]
  },
  {
   "cell_type": "markdown",
   "metadata": {},
   "source": [
    "    - 프로경력, 체중 모두 탈락..\n",
    "    - CON_ST(연속 스트라이크 기록) 와 상관관계 높음"
   ]
  },
  {
   "cell_type": "code",
   "execution_count": null,
   "metadata": {},
   "outputs": [],
   "source": []
  },
  {
   "cell_type": "markdown",
   "metadata": {},
   "source": [
    "---"
   ]
  },
  {
   "cell_type": "markdown",
   "metadata": {},
   "source": [
    "## 3. Decision Tree : 불필요!"
   ]
  },
  {
   "cell_type": "code",
   "execution_count": 113,
   "metadata": {},
   "outputs": [
    {
     "data": {
      "text/html": [
       "<div>\n",
       "<style scoped>\n",
       "    .dataframe tbody tr th:only-of-type {\n",
       "        vertical-align: middle;\n",
       "    }\n",
       "\n",
       "    .dataframe tbody tr th {\n",
       "        vertical-align: top;\n",
       "    }\n",
       "\n",
       "    .dataframe thead th {\n",
       "        text-align: right;\n",
       "    }\n",
       "</style>\n",
       "<table border=\"1\" class=\"dataframe\">\n",
       "  <thead>\n",
       "    <tr style=\"text-align: right;\">\n",
       "      <th></th>\n",
       "      <th>Unnamed: 0</th>\n",
       "      <th>name</th>\n",
       "      <th>height</th>\n",
       "      <th>exp</th>\n",
       "      <th>pro_exp</th>\n",
       "      <th>birth</th>\n",
       "      <th>weight</th>\n",
       "      <th>ball_pound</th>\n",
       "      <th>TOT_AVG</th>\n",
       "      <th>CON_ST</th>\n",
       "      <th>L_READ</th>\n",
       "      <th>OVERCOME</th>\n",
       "      <th>SPARE_SUC</th>\n",
       "      <th>throws_num</th>\n",
       "      <th>team_num</th>\n",
       "      <th>hand_num</th>\n",
       "    </tr>\n",
       "  </thead>\n",
       "  <tbody>\n",
       "    <tr>\n",
       "      <th>0</th>\n",
       "      <td>0</td>\n",
       "      <td>김진혁</td>\n",
       "      <td>180</td>\n",
       "      <td>23</td>\n",
       "      <td>3</td>\n",
       "      <td>1986-07-03</td>\n",
       "      <td>60</td>\n",
       "      <td>15.0</td>\n",
       "      <td>215.8</td>\n",
       "      <td>4.40</td>\n",
       "      <td>-9.000000</td>\n",
       "      <td>0.652252</td>\n",
       "      <td>0.811789</td>\n",
       "      <td>2</td>\n",
       "      <td>2</td>\n",
       "      <td>1</td>\n",
       "    </tr>\n",
       "    <tr>\n",
       "      <th>1</th>\n",
       "      <td>1</td>\n",
       "      <td>한재호</td>\n",
       "      <td>173</td>\n",
       "      <td>22</td>\n",
       "      <td>3</td>\n",
       "      <td>1984-10-03</td>\n",
       "      <td>79</td>\n",
       "      <td>15.0</td>\n",
       "      <td>246.0</td>\n",
       "      <td>5.75</td>\n",
       "      <td>-9.750000</td>\n",
       "      <td>0.687281</td>\n",
       "      <td>0.659609</td>\n",
       "      <td>1</td>\n",
       "      <td>13</td>\n",
       "      <td>0</td>\n",
       "    </tr>\n",
       "    <tr>\n",
       "      <th>2</th>\n",
       "      <td>2</td>\n",
       "      <td>김홍기</td>\n",
       "      <td>179</td>\n",
       "      <td>13</td>\n",
       "      <td>4</td>\n",
       "      <td>1993-10-24</td>\n",
       "      <td>130</td>\n",
       "      <td>15.0</td>\n",
       "      <td>190.5</td>\n",
       "      <td>2.75</td>\n",
       "      <td>-9.250000</td>\n",
       "      <td>0.475010</td>\n",
       "      <td>0.542429</td>\n",
       "      <td>2</td>\n",
       "      <td>10</td>\n",
       "      <td>0</td>\n",
       "    </tr>\n",
       "    <tr>\n",
       "      <th>3</th>\n",
       "      <td>3</td>\n",
       "      <td>최성일</td>\n",
       "      <td>175</td>\n",
       "      <td>10</td>\n",
       "      <td>8</td>\n",
       "      <td>1981-08-01</td>\n",
       "      <td>72</td>\n",
       "      <td>15.0</td>\n",
       "      <td>212.5</td>\n",
       "      <td>4.00</td>\n",
       "      <td>-8.750000</td>\n",
       "      <td>0.455561</td>\n",
       "      <td>0.768218</td>\n",
       "      <td>1</td>\n",
       "      <td>12</td>\n",
       "      <td>0</td>\n",
       "    </tr>\n",
       "    <tr>\n",
       "      <th>4</th>\n",
       "      <td>4</td>\n",
       "      <td>공병희</td>\n",
       "      <td>167</td>\n",
       "      <td>31</td>\n",
       "      <td>6</td>\n",
       "      <td>1973-03-29</td>\n",
       "      <td>70</td>\n",
       "      <td>15.0</td>\n",
       "      <td>172.0</td>\n",
       "      <td>2.00</td>\n",
       "      <td>-8.666667</td>\n",
       "      <td>0.688754</td>\n",
       "      <td>0.467551</td>\n",
       "      <td>1</td>\n",
       "      <td>0</td>\n",
       "      <td>1</td>\n",
       "    </tr>\n",
       "  </tbody>\n",
       "</table>\n",
       "</div>"
      ],
      "text/plain": [
       "   Unnamed: 0 name  height  exp  pro_exp       birth  weight  ball_pound  \\\n",
       "0           0  김진혁     180   23        3  1986-07-03      60        15.0   \n",
       "1           1  한재호     173   22        3  1984-10-03      79        15.0   \n",
       "2           2  김홍기     179   13        4  1993-10-24     130        15.0   \n",
       "3           3  최성일     175   10        8  1981-08-01      72        15.0   \n",
       "4           4  공병희     167   31        6  1973-03-29      70        15.0   \n",
       "\n",
       "   TOT_AVG  CON_ST    L_READ  OVERCOME  SPARE_SUC  throws_num  team_num  \\\n",
       "0    215.8    4.40 -9.000000  0.652252   0.811789           2         2   \n",
       "1    246.0    5.75 -9.750000  0.687281   0.659609           1        13   \n",
       "2    190.5    2.75 -9.250000  0.475010   0.542429           2        10   \n",
       "3    212.5    4.00 -8.750000  0.455561   0.768218           1        12   \n",
       "4    172.0    2.00 -8.666667  0.688754   0.467551           1         0   \n",
       "\n",
       "   hand_num  \n",
       "0         1  \n",
       "1         0  \n",
       "2         0  \n",
       "3         0  \n",
       "4         1  "
      ]
     },
     "execution_count": 113,
     "metadata": {},
     "output_type": "execute_result"
    }
   ],
   "source": [
    "bowling_m.head()"
   ]
  },
  {
   "cell_type": "code",
   "execution_count": 125,
   "metadata": {},
   "outputs": [],
   "source": [
    "# bowling_m_2=bowling_m.copy()\n",
    "\n",
    "bowling_m_2.drop(['name'],axis=1,inplace=True)\n",
    "bowling_m_2.drop(['Unnamed: 0'],axis=1,inplace=True)\n",
    "bowling_m_2.drop(['birth'],axis=1,inplace=True)"
   ]
  },
  {
   "cell_type": "code",
   "execution_count": 126,
   "metadata": {},
   "outputs": [
    {
     "data": {
      "text/html": [
       "<div>\n",
       "<style scoped>\n",
       "    .dataframe tbody tr th:only-of-type {\n",
       "        vertical-align: middle;\n",
       "    }\n",
       "\n",
       "    .dataframe tbody tr th {\n",
       "        vertical-align: top;\n",
       "    }\n",
       "\n",
       "    .dataframe thead th {\n",
       "        text-align: right;\n",
       "    }\n",
       "</style>\n",
       "<table border=\"1\" class=\"dataframe\">\n",
       "  <thead>\n",
       "    <tr style=\"text-align: right;\">\n",
       "      <th></th>\n",
       "      <th>height</th>\n",
       "      <th>exp</th>\n",
       "      <th>pro_exp</th>\n",
       "      <th>weight</th>\n",
       "      <th>ball_pound</th>\n",
       "      <th>TOT_AVG</th>\n",
       "      <th>CON_ST</th>\n",
       "      <th>L_READ</th>\n",
       "      <th>OVERCOME</th>\n",
       "      <th>SPARE_SUC</th>\n",
       "      <th>throws_num</th>\n",
       "      <th>team_num</th>\n",
       "      <th>hand_num</th>\n",
       "    </tr>\n",
       "  </thead>\n",
       "  <tbody>\n",
       "    <tr>\n",
       "      <th>0</th>\n",
       "      <td>180</td>\n",
       "      <td>23</td>\n",
       "      <td>3</td>\n",
       "      <td>60</td>\n",
       "      <td>15.0</td>\n",
       "      <td>215.8</td>\n",
       "      <td>4.40</td>\n",
       "      <td>-9.000000</td>\n",
       "      <td>0.652252</td>\n",
       "      <td>0.811789</td>\n",
       "      <td>2</td>\n",
       "      <td>2</td>\n",
       "      <td>1</td>\n",
       "    </tr>\n",
       "    <tr>\n",
       "      <th>1</th>\n",
       "      <td>173</td>\n",
       "      <td>22</td>\n",
       "      <td>3</td>\n",
       "      <td>79</td>\n",
       "      <td>15.0</td>\n",
       "      <td>246.0</td>\n",
       "      <td>5.75</td>\n",
       "      <td>-9.750000</td>\n",
       "      <td>0.687281</td>\n",
       "      <td>0.659609</td>\n",
       "      <td>1</td>\n",
       "      <td>13</td>\n",
       "      <td>0</td>\n",
       "    </tr>\n",
       "    <tr>\n",
       "      <th>2</th>\n",
       "      <td>179</td>\n",
       "      <td>13</td>\n",
       "      <td>4</td>\n",
       "      <td>130</td>\n",
       "      <td>15.0</td>\n",
       "      <td>190.5</td>\n",
       "      <td>2.75</td>\n",
       "      <td>-9.250000</td>\n",
       "      <td>0.475010</td>\n",
       "      <td>0.542429</td>\n",
       "      <td>2</td>\n",
       "      <td>10</td>\n",
       "      <td>0</td>\n",
       "    </tr>\n",
       "    <tr>\n",
       "      <th>3</th>\n",
       "      <td>175</td>\n",
       "      <td>10</td>\n",
       "      <td>8</td>\n",
       "      <td>72</td>\n",
       "      <td>15.0</td>\n",
       "      <td>212.5</td>\n",
       "      <td>4.00</td>\n",
       "      <td>-8.750000</td>\n",
       "      <td>0.455561</td>\n",
       "      <td>0.768218</td>\n",
       "      <td>1</td>\n",
       "      <td>12</td>\n",
       "      <td>0</td>\n",
       "    </tr>\n",
       "    <tr>\n",
       "      <th>4</th>\n",
       "      <td>167</td>\n",
       "      <td>31</td>\n",
       "      <td>6</td>\n",
       "      <td>70</td>\n",
       "      <td>15.0</td>\n",
       "      <td>172.0</td>\n",
       "      <td>2.00</td>\n",
       "      <td>-8.666667</td>\n",
       "      <td>0.688754</td>\n",
       "      <td>0.467551</td>\n",
       "      <td>1</td>\n",
       "      <td>0</td>\n",
       "      <td>1</td>\n",
       "    </tr>\n",
       "  </tbody>\n",
       "</table>\n",
       "</div>"
      ],
      "text/plain": [
       "   height  exp  pro_exp  weight  ball_pound  TOT_AVG  CON_ST    L_READ  \\\n",
       "0     180   23        3      60        15.0    215.8    4.40 -9.000000   \n",
       "1     173   22        3      79        15.0    246.0    5.75 -9.750000   \n",
       "2     179   13        4     130        15.0    190.5    2.75 -9.250000   \n",
       "3     175   10        8      72        15.0    212.5    4.00 -8.750000   \n",
       "4     167   31        6      70        15.0    172.0    2.00 -8.666667   \n",
       "\n",
       "   OVERCOME  SPARE_SUC  throws_num  team_num  hand_num  \n",
       "0  0.652252   0.811789           2         2         1  \n",
       "1  0.687281   0.659609           1        13         0  \n",
       "2  0.475010   0.542429           2        10         0  \n",
       "3  0.455561   0.768218           1        12         0  \n",
       "4  0.688754   0.467551           1         0         1  "
      ]
     },
     "execution_count": 126,
     "metadata": {},
     "output_type": "execute_result"
    }
   ],
   "source": [
    "bowling_m_2.head()"
   ]
  },
  {
   "cell_type": "code",
   "execution_count": 129,
   "metadata": {},
   "outputs": [
    {
     "name": "stdout",
     "output_type": "stream",
     "text": [
      "<class 'pandas.core.frame.DataFrame'>\n",
      "RangeIndex: 20 entries, 0 to 19\n",
      "Data columns (total 13 columns):\n",
      " #   Column      Non-Null Count  Dtype  \n",
      "---  ------      --------------  -----  \n",
      " 0   height      20 non-null     int64  \n",
      " 1   exp         20 non-null     int64  \n",
      " 2   pro_exp     20 non-null     int64  \n",
      " 3   weight      20 non-null     int64  \n",
      " 4   ball_pound  20 non-null     float64\n",
      " 5   TOT_AVG     20 non-null     float64\n",
      " 6   CON_ST      20 non-null     float64\n",
      " 7   L_READ      20 non-null     float64\n",
      " 8   OVERCOME    20 non-null     float64\n",
      " 9   SPARE_SUC   20 non-null     float64\n",
      " 10  throws_num  20 non-null     int32  \n",
      " 11  team_num    20 non-null     int32  \n",
      " 12  hand_num    20 non-null     int32  \n",
      "dtypes: float64(6), int32(3), int64(4)\n",
      "memory usage: 1.9 KB\n"
     ]
    }
   ],
   "source": [
    "bowling_m_2.info()"
   ]
  },
  {
   "cell_type": "code",
   "execution_count": 130,
   "metadata": {},
   "outputs": [],
   "source": [
    "#\tname\theight\texp     pro_exp\t  birth(x)\t  weight\tball_pound\tTOT_AVG\tCON_ST\tL_READ\tOVERCOME\tSPARE_SUC\tthrows_num\tteam_num    hand_num\n",
    "\n",
    "X=bowling_m_2.drop(['TOT_AVG'],axis=1) #피쳐\n",
    "y=bowling_m_2['TOT_AVG'] #라벨\n",
    "\n",
    "X_train, X_test, y_train, y_test = train_test_split(X,y,test_size=0.2, random_state=13)\n",
    "\n",
    "#라벨이 int 여야 함 \n",
    "y_train = y_train.apply(lambda x : round(x)) \n",
    "y_test = y_test.apply(lambda x : round(x)) "
   ]
  },
  {
   "cell_type": "code",
   "execution_count": 131,
   "metadata": {},
   "outputs": [
    {
     "data": {
      "text/plain": [
       "DecisionTreeClassifier(max_depth=2, random_state=13)"
      ]
     },
     "execution_count": 131,
     "metadata": {},
     "output_type": "execute_result"
    }
   ],
   "source": [
    "#fit\n",
    "bowling_m_tree=DecisionTreeClassifier(max_depth=2, random_state=13)\n",
    "bowling_m_tree.fit(X_train, y_train)"
   ]
  },
  {
   "cell_type": "code",
   "execution_count": 132,
   "metadata": {},
   "outputs": [
    {
     "name": "stdout",
     "output_type": "stream",
     "text": [
      "0.4375\n",
      "0.0\n"
     ]
    }
   ],
   "source": [
    "y_pred_tr = bowling_m_tree.predict(X_train)\n",
    "y_pred_test = bowling_m_tree.predict(X_test)\n",
    "\n",
    "print(accuracy_score(y_train, y_pred_tr))\n",
    "print(accuracy_score(y_test, y_pred_test)) "
   ]
  },
  {
   "cell_type": "markdown",
   "metadata": {},
   "source": [
    "0이라니?\n"
   ]
  },
  {
   "cell_type": "code",
   "execution_count": 133,
   "metadata": {},
   "outputs": [],
   "source": [
    "import sklearn.tree as tree"
   ]
  },
  {
   "cell_type": "code",
   "execution_count": 135,
   "metadata": {},
   "outputs": [
    {
     "data": {
      "image/png": "[encoded data removed]",
      "text/plain": [
       "<Figure size 864x576 with 1 Axes>"
      ]
     },
     "metadata": {
      "needs_background": "light"
     },
     "output_type": "display_data"
    }
   ],
   "source": [
    "plt.figure(figsize=(12,8))\n",
    "tree.plot_tree(bowling_m_tree, feature_names=X.columns);"
   ]
  },
  {
   "cell_type": "code",
   "execution_count": null,
   "metadata": {},
   "outputs": [],
   "source": []
  },
  {
   "cell_type": "code",
   "execution_count": 136,
   "metadata": {},
   "outputs": [
    {
     "data": {
      "text/plain": [
       "DecisionTreeClassifier(max_depth=5, random_state=13)"
      ]
     },
     "execution_count": 136,
     "metadata": {},
     "output_type": "execute_result"
    }
   ],
   "source": [
    "#depth 수정 (2 > 5)\n",
    "\n",
    "bowling_m_tree=DecisionTreeClassifier(max_depth=5, random_state=13)\n",
    "bowling_m_tree.fit(X_train, y_train)"
   ]
  },
  {
   "cell_type": "code",
   "execution_count": 141,
   "metadata": {},
   "outputs": [
    {
     "name": "stdout",
     "output_type": "stream",
     "text": [
      "0.75\n",
      "0.0\n"
     ]
    }
   ],
   "source": [
    "y_pred_tr = bowling_m_tree.predict(X_train)\n",
    "y_pred_test = bowling_m_tree.predict(X_test)\n",
    "\n",
    "print(accuracy_score(y_train, y_pred_tr))\n",
    "print(accuracy_score(y_test, y_pred_test)) "
   ]
  },
  {
   "cell_type": "code",
   "execution_count": 142,
   "metadata": {},
   "outputs": [
    {
     "data": {
      "image/png": "[encoded data removed]",
      "text/plain": [
       "<Figure size 864x576 with 1 Axes>"
      ]
     },
     "metadata": {
      "needs_background": "light"
     },
     "output_type": "display_data"
    }
   ],
   "source": [
    "plt.figure(figsize=(12,8))\n",
    "tree.plot_tree(bowling_m_tree, feature_names=X.columns);"
   ]
  },
  {
   "cell_type": "code",
   "execution_count": null,
   "metadata": {},
   "outputs": [],
   "source": [
    "# 피처를 만들어낸 특성들만 선택하는 경우?"
   ]
  },
  {
   "cell_type": "code",
   "execution_count": 159,
   "metadata": {},
   "outputs": [],
   "source": [
    "X=bowling_m_2[['CON_ST','L_READ','OVERCOME']] #피쳐\n",
    "y=bowling_m_2['TOT_AVG'] #라벨\n",
    "\n",
    "X_train, X_test, y_train, y_test = train_test_split(X,y,test_size=0.2, random_state=13)\n",
    "\n",
    "#라벨이 int \n",
    "y_train = y_train.apply(lambda x : round(x)) \n",
    "y_test = y_test.apply(lambda x : round(x)) "
   ]
  },
  {
   "cell_type": "code",
   "execution_count": 160,
   "metadata": {},
   "outputs": [
    {
     "data": {
      "text/plain": [
       "DecisionTreeClassifier(max_depth=5, random_state=13)"
      ]
     },
     "execution_count": 160,
     "metadata": {},
     "output_type": "execute_result"
    }
   ],
   "source": [
    "#fit\n",
    "bowling_m_tree=DecisionTreeClassifier(max_depth=5, random_state=13)\n",
    "bowling_m_tree.fit(X_train, y_train)"
   ]
  },
  {
   "cell_type": "code",
   "execution_count": 161,
   "metadata": {},
   "outputs": [
    {
     "name": "stdout",
     "output_type": "stream",
     "text": [
      "0.625\n",
      "0.0\n"
     ]
    }
   ],
   "source": [
    "y_pred_tr = bowling_m_tree.predict(X_train)\n",
    "y_pred_test = bowling_m_tree.predict(X_test)\n",
    "\n",
    "print(accuracy_score(y_train, y_pred_tr))\n",
    "print(accuracy_score(y_test, y_pred_test)) "
   ]
  },
  {
   "cell_type": "code",
   "execution_count": 162,
   "metadata": {},
   "outputs": [
    {
     "name": "stdout",
     "output_type": "stream",
     "text": [
      "0.0\n"
     ]
    }
   ],
   "source": [
    "pred = bowling_m_tree.predict(X_test)\n",
    "print(accuracy_score(y_test, pred))"
   ]
  },
  {
   "cell_type": "code",
   "execution_count": 163,
   "metadata": {},
   "outputs": [
    {
     "data": {
      "image/png": "[encoded data removed]",
      "text/plain": [
       "<Figure size 864x576 with 1 Axes>"
      ]
     },
     "metadata": {
      "needs_background": "light"
     },
     "output_type": "display_data"
    }
   ],
   "source": [
    "plt.figure(figsize=(12,8))\n",
    "tree.plot_tree(bowling_m_tree, feature_names=X.columns);"
   ]
  },
  {
   "cell_type": "markdown",
   "metadata": {},
   "source": [
    "---"
   ]
  },
  {
   "cell_type": "code",
   "execution_count": null,
   "metadata": {},
   "outputs": [],
   "source": []
  },
  {
   "cell_type": "markdown",
   "metadata": {},
   "source": [
    "## 4. 피처분석"
   ]
  },
  {
   "cell_type": "markdown",
   "metadata": {},
   "source": [
    "---"
   ]
  },
  {
   "cell_type": "markdown",
   "metadata": {},
   "source": [
    "아하 회귀가 아닌 분류로 접근중.\n",
    "다시 회귀 분석으로 수정"
   ]
  },
  {
   "cell_type": "markdown",
   "metadata": {},
   "source": [
    "---"
   ]
  },
  {
   "cell_type": "code",
   "execution_count": 195,
   "metadata": {},
   "outputs": [
    {
     "data": {
      "text/html": [
       "<div>\n",
       "<style scoped>\n",
       "    .dataframe tbody tr th:only-of-type {\n",
       "        vertical-align: middle;\n",
       "    }\n",
       "\n",
       "    .dataframe tbody tr th {\n",
       "        vertical-align: top;\n",
       "    }\n",
       "\n",
       "    .dataframe thead th {\n",
       "        text-align: right;\n",
       "    }\n",
       "</style>\n",
       "<table border=\"1\" class=\"dataframe\">\n",
       "  <thead>\n",
       "    <tr style=\"text-align: right;\">\n",
       "      <th></th>\n",
       "      <th>height</th>\n",
       "      <th>exp</th>\n",
       "      <th>pro_exp</th>\n",
       "      <th>weight</th>\n",
       "      <th>ball_pound</th>\n",
       "      <th>TOT_AVG</th>\n",
       "      <th>CON_ST</th>\n",
       "      <th>L_READ</th>\n",
       "      <th>OVERCOME</th>\n",
       "      <th>SPARE_SUC</th>\n",
       "      <th>throws_num</th>\n",
       "      <th>team_num</th>\n",
       "      <th>hand_num</th>\n",
       "    </tr>\n",
       "  </thead>\n",
       "  <tbody>\n",
       "    <tr>\n",
       "      <th>0</th>\n",
       "      <td>180</td>\n",
       "      <td>23</td>\n",
       "      <td>3</td>\n",
       "      <td>60</td>\n",
       "      <td>15.0</td>\n",
       "      <td>215.8</td>\n",
       "      <td>4.40</td>\n",
       "      <td>-9.000000</td>\n",
       "      <td>0.652252</td>\n",
       "      <td>0.811789</td>\n",
       "      <td>2</td>\n",
       "      <td>2</td>\n",
       "      <td>1</td>\n",
       "    </tr>\n",
       "    <tr>\n",
       "      <th>1</th>\n",
       "      <td>173</td>\n",
       "      <td>22</td>\n",
       "      <td>3</td>\n",
       "      <td>79</td>\n",
       "      <td>15.0</td>\n",
       "      <td>246.0</td>\n",
       "      <td>5.75</td>\n",
       "      <td>-9.750000</td>\n",
       "      <td>0.687281</td>\n",
       "      <td>0.659609</td>\n",
       "      <td>1</td>\n",
       "      <td>13</td>\n",
       "      <td>0</td>\n",
       "    </tr>\n",
       "    <tr>\n",
       "      <th>2</th>\n",
       "      <td>179</td>\n",
       "      <td>13</td>\n",
       "      <td>4</td>\n",
       "      <td>130</td>\n",
       "      <td>15.0</td>\n",
       "      <td>190.5</td>\n",
       "      <td>2.75</td>\n",
       "      <td>-9.250000</td>\n",
       "      <td>0.475010</td>\n",
       "      <td>0.542429</td>\n",
       "      <td>2</td>\n",
       "      <td>10</td>\n",
       "      <td>0</td>\n",
       "    </tr>\n",
       "    <tr>\n",
       "      <th>3</th>\n",
       "      <td>175</td>\n",
       "      <td>10</td>\n",
       "      <td>8</td>\n",
       "      <td>72</td>\n",
       "      <td>15.0</td>\n",
       "      <td>212.5</td>\n",
       "      <td>4.00</td>\n",
       "      <td>-8.750000</td>\n",
       "      <td>0.455561</td>\n",
       "      <td>0.768218</td>\n",
       "      <td>1</td>\n",
       "      <td>12</td>\n",
       "      <td>0</td>\n",
       "    </tr>\n",
       "    <tr>\n",
       "      <th>4</th>\n",
       "      <td>167</td>\n",
       "      <td>31</td>\n",
       "      <td>6</td>\n",
       "      <td>70</td>\n",
       "      <td>15.0</td>\n",
       "      <td>172.0</td>\n",
       "      <td>2.00</td>\n",
       "      <td>-8.666667</td>\n",
       "      <td>0.688754</td>\n",
       "      <td>0.467551</td>\n",
       "      <td>1</td>\n",
       "      <td>0</td>\n",
       "      <td>1</td>\n",
       "    </tr>\n",
       "  </tbody>\n",
       "</table>\n",
       "</div>"
      ],
      "text/plain": [
       "   height  exp  pro_exp  weight  ball_pound  TOT_AVG  CON_ST    L_READ  \\\n",
       "0     180   23        3      60        15.0    215.8    4.40 -9.000000   \n",
       "1     173   22        3      79        15.0    246.0    5.75 -9.750000   \n",
       "2     179   13        4     130        15.0    190.5    2.75 -9.250000   \n",
       "3     175   10        8      72        15.0    212.5    4.00 -8.750000   \n",
       "4     167   31        6      70        15.0    172.0    2.00 -8.666667   \n",
       "\n",
       "   OVERCOME  SPARE_SUC  throws_num  team_num  hand_num  \n",
       "0  0.652252   0.811789           2         2         1  \n",
       "1  0.687281   0.659609           1        13         0  \n",
       "2  0.475010   0.542429           2        10         0  \n",
       "3  0.455561   0.768218           1        12         0  \n",
       "4  0.688754   0.467551           1         0         1  "
      ]
     },
     "execution_count": 195,
     "metadata": {},
     "output_type": "execute_result"
    }
   ],
   "source": [
    "bowling_m_2.head()"
   ]
  },
  {
   "cell_type": "code",
   "execution_count": 165,
   "metadata": {},
   "outputs": [
    {
     "data": {
      "image/png": "[encoded data removed]",
      "text/plain": [
       "<Figure size 360x360 with 1 Axes>"
      ]
     },
     "metadata": {
      "needs_background": "light"
     },
     "output_type": "display_data"
    }
   ],
   "source": [
    "# 상관관계 확인\n",
    "sns.lmplot(x='TOT_AVG', y= 'CON_ST', data=bowling_m);"
   ]
  },
  {
   "cell_type": "code",
   "execution_count": 197,
   "metadata": {},
   "outputs": [],
   "source": [
    "#우선 모든 피쳐들과 함께 확인\n",
    "# train / test 데이터 분리\n",
    "\n",
    "X = bowling_m_2.drop(['TOT_AVG'],axis=1)\n",
    "y = bowling_m_2['TOT_AVG']\n",
    "\n",
    "X_train, X_test, y_train, y_test = train_test_split(X,y,test_size=0.2, random_state=13)"
   ]
  },
  {
   "cell_type": "code",
   "execution_count": 198,
   "metadata": {},
   "outputs": [
    {
     "data": {
      "text/html": [
       "<div>\n",
       "<style scoped>\n",
       "    .dataframe tbody tr th:only-of-type {\n",
       "        vertical-align: middle;\n",
       "    }\n",
       "\n",
       "    .dataframe tbody tr th {\n",
       "        vertical-align: top;\n",
       "    }\n",
       "\n",
       "    .dataframe thead th {\n",
       "        text-align: right;\n",
       "    }\n",
       "</style>\n",
       "<table border=\"1\" class=\"dataframe\">\n",
       "  <thead>\n",
       "    <tr style=\"text-align: right;\">\n",
       "      <th></th>\n",
       "      <th>height</th>\n",
       "      <th>exp</th>\n",
       "      <th>pro_exp</th>\n",
       "      <th>weight</th>\n",
       "      <th>ball_pound</th>\n",
       "      <th>CON_ST</th>\n",
       "      <th>L_READ</th>\n",
       "      <th>OVERCOME</th>\n",
       "      <th>SPARE_SUC</th>\n",
       "      <th>throws_num</th>\n",
       "      <th>team_num</th>\n",
       "      <th>hand_num</th>\n",
       "    </tr>\n",
       "  </thead>\n",
       "  <tbody>\n",
       "    <tr>\n",
       "      <th>8</th>\n",
       "      <td>172</td>\n",
       "      <td>28</td>\n",
       "      <td>3</td>\n",
       "      <td>70</td>\n",
       "      <td>15.0</td>\n",
       "      <td>4.666667</td>\n",
       "      <td>-9.000000</td>\n",
       "      <td>0.690137</td>\n",
       "      <td>0.446473</td>\n",
       "      <td>1</td>\n",
       "      <td>10</td>\n",
       "      <td>0</td>\n",
       "    </tr>\n",
       "    <tr>\n",
       "      <th>5</th>\n",
       "      <td>174</td>\n",
       "      <td>26</td>\n",
       "      <td>10</td>\n",
       "      <td>74</td>\n",
       "      <td>15.0</td>\n",
       "      <td>3.333333</td>\n",
       "      <td>-8.666667</td>\n",
       "      <td>0.783212</td>\n",
       "      <td>0.624562</td>\n",
       "      <td>2</td>\n",
       "      <td>3</td>\n",
       "      <td>0</td>\n",
       "    </tr>\n",
       "    <tr>\n",
       "      <th>7</th>\n",
       "      <td>178</td>\n",
       "      <td>27</td>\n",
       "      <td>19</td>\n",
       "      <td>78</td>\n",
       "      <td>15.0</td>\n",
       "      <td>4.666667</td>\n",
       "      <td>-8.333333</td>\n",
       "      <td>0.777611</td>\n",
       "      <td>0.819693</td>\n",
       "      <td>2</td>\n",
       "      <td>6</td>\n",
       "      <td>1</td>\n",
       "    </tr>\n",
       "    <tr>\n",
       "      <th>15</th>\n",
       "      <td>174</td>\n",
       "      <td>18</td>\n",
       "      <td>4</td>\n",
       "      <td>65</td>\n",
       "      <td>15.0</td>\n",
       "      <td>3.666667</td>\n",
       "      <td>-8.000000</td>\n",
       "      <td>0.361171</td>\n",
       "      <td>0.794774</td>\n",
       "      <td>1</td>\n",
       "      <td>7</td>\n",
       "      <td>0</td>\n",
       "    </tr>\n",
       "    <tr>\n",
       "      <th>14</th>\n",
       "      <td>182</td>\n",
       "      <td>12</td>\n",
       "      <td>9</td>\n",
       "      <td>80</td>\n",
       "      <td>15.0</td>\n",
       "      <td>3.333333</td>\n",
       "      <td>-9.666667</td>\n",
       "      <td>0.722074</td>\n",
       "      <td>0.739415</td>\n",
       "      <td>3</td>\n",
       "      <td>14</td>\n",
       "      <td>0</td>\n",
       "    </tr>\n",
       "  </tbody>\n",
       "</table>\n",
       "</div>"
      ],
      "text/plain": [
       "    height  exp  pro_exp  weight  ball_pound    CON_ST    L_READ  OVERCOME  \\\n",
       "8      172   28        3      70        15.0  4.666667 -9.000000  0.690137   \n",
       "5      174   26       10      74        15.0  3.333333 -8.666667  0.783212   \n",
       "7      178   27       19      78        15.0  4.666667 -8.333333  0.777611   \n",
       "15     174   18        4      65        15.0  3.666667 -8.000000  0.361171   \n",
       "14     182   12        9      80        15.0  3.333333 -9.666667  0.722074   \n",
       "\n",
       "    SPARE_SUC  throws_num  team_num  hand_num  \n",
       "8    0.446473           1        10         0  \n",
       "5    0.624562           2         3         0  \n",
       "7    0.819693           2         6         1  \n",
       "15   0.794774           1         7         0  \n",
       "14   0.739415           3        14         0  "
      ]
     },
     "execution_count": 198,
     "metadata": {},
     "output_type": "execute_result"
    }
   ],
   "source": [
    "X_train.head()"
   ]
  },
  {
   "cell_type": "code",
   "execution_count": 199,
   "metadata": {},
   "outputs": [],
   "source": [
    "#회귀분석 계수 학습 \n",
    "from sklearn.linear_model import LinearRegression\n",
    "import statsmodels.api as sm"
   ]
  },
  {
   "cell_type": "code",
   "execution_count": 200,
   "metadata": {},
   "outputs": [
    {
     "data": {
      "text/plain": [
       "LinearRegression()"
      ]
     },
     "execution_count": 200,
     "metadata": {},
     "output_type": "execute_result"
    }
   ],
   "source": [
    "lr=LinearRegression()\n",
    "lr.fit(X_train, y_train)"
   ]
  },
  {
   "cell_type": "code",
   "execution_count": 201,
   "metadata": {},
   "outputs": [
    {
     "name": "stdout",
     "output_type": "stream",
     "text": [
      "[ 2.19744578e+00  3.33508110e-01 -2.77806376e+00 -6.75017573e-03\n",
      " -1.24370570e+01  1.78647495e+01 -1.44553989e+01  4.86610783e+01\n",
      "  9.55559518e+01 -1.23974254e+01 -1.29500291e+00  1.30762169e+00] -230.31340589039365\n"
     ]
    }
   ],
   "source": [
    "print(lr.coef_,  lr.intercept_) #각 피쳐의 계수, 절편\n"
   ]
  },
  {
   "cell_type": "code",
   "execution_count": 202,
   "metadata": {},
   "outputs": [
    {
     "name": "stderr",
     "output_type": "stream",
     "text": [
      "C:\\Users\\user\\Anaconda3\\envs\\ds_study\\lib\\site-packages\\scipy\\stats\\stats.py:1541: UserWarning: kurtosistest only valid for n>=20 ... continuing anyway, n=16\n",
      "  warnings.warn(\"kurtosistest only valid for n>=20 ... continuing \"\n"
     ]
    },
    {
     "data": {
      "text/html": [
       "<table class=\"simpletable\">\n",
       "<caption>OLS Regression Results</caption>\n",
       "<tr>\n",
       "  <th>Dep. Variable:</th>         <td>TOT_AVG</td>     <th>  R-squared:         </th> <td>   0.993</td>\n",
       "</tr>\n",
       "<tr>\n",
       "  <th>Model:</th>                   <td>OLS</td>       <th>  Adj. R-squared:    </th> <td>   0.963</td>\n",
       "</tr>\n",
       "<tr>\n",
       "  <th>Method:</th>             <td>Least Squares</td>  <th>  F-statistic:       </th> <td>   33.20</td>\n",
       "</tr>\n",
       "<tr>\n",
       "  <th>Date:</th>             <td>Tue, 10 May 2022</td> <th>  Prob (F-statistic):</th>  <td>0.00741</td>\n",
       "</tr>\n",
       "<tr>\n",
       "  <th>Time:</th>                 <td>19:02:34</td>     <th>  Log-Likelihood:    </th> <td> -29.330</td>\n",
       "</tr>\n",
       "<tr>\n",
       "  <th>No. Observations:</th>      <td>    16</td>      <th>  AIC:               </th> <td>   84.66</td>\n",
       "</tr>\n",
       "<tr>\n",
       "  <th>Df Residuals:</th>          <td>     3</td>      <th>  BIC:               </th> <td>   94.70</td>\n",
       "</tr>\n",
       "<tr>\n",
       "  <th>Df Model:</th>              <td>    12</td>      <th>                     </th>     <td> </td>   \n",
       "</tr>\n",
       "<tr>\n",
       "  <th>Covariance Type:</th>      <td>nonrobust</td>    <th>                     </th>     <td> </td>   \n",
       "</tr>\n",
       "</table>\n",
       "<table class=\"simpletable\">\n",
       "<tr>\n",
       "       <td></td>         <th>coef</th>     <th>std err</th>      <th>t</th>      <th>P>|t|</th>  <th>[0.025</th>    <th>0.975]</th>  \n",
       "</tr>\n",
       "<tr>\n",
       "  <th>const</th>      <td> -230.3134</td> <td>  163.995</td> <td>   -1.404</td> <td> 0.255</td> <td> -752.217</td> <td>  291.591</td>\n",
       "</tr>\n",
       "<tr>\n",
       "  <th>height</th>     <td>    2.1974</td> <td>    0.710</td> <td>    3.096</td> <td> 0.053</td> <td>   -0.061</td> <td>    4.456</td>\n",
       "</tr>\n",
       "<tr>\n",
       "  <th>exp</th>        <td>    0.3335</td> <td>    0.245</td> <td>    1.359</td> <td> 0.267</td> <td>   -0.447</td> <td>    1.114</td>\n",
       "</tr>\n",
       "<tr>\n",
       "  <th>pro_exp</th>    <td>   -2.7781</td> <td>    0.584</td> <td>   -4.753</td> <td> 0.018</td> <td>   -4.638</td> <td>   -0.918</td>\n",
       "</tr>\n",
       "<tr>\n",
       "  <th>weight</th>     <td>   -0.0068</td> <td>    0.093</td> <td>   -0.072</td> <td> 0.947</td> <td>   -0.304</td> <td>    0.291</td>\n",
       "</tr>\n",
       "<tr>\n",
       "  <th>ball_pound</th> <td>  -12.4371</td> <td>    9.633</td> <td>   -1.291</td> <td> 0.287</td> <td>  -43.095</td> <td>   18.221</td>\n",
       "</tr>\n",
       "<tr>\n",
       "  <th>CON_ST</th>     <td>   17.8647</td> <td>    1.947</td> <td>    9.176</td> <td> 0.003</td> <td>   11.669</td> <td>   24.061</td>\n",
       "</tr>\n",
       "<tr>\n",
       "  <th>L_READ</th>     <td>  -14.4554</td> <td>    4.231</td> <td>   -3.417</td> <td> 0.042</td> <td>  -27.919</td> <td>   -0.991</td>\n",
       "</tr>\n",
       "<tr>\n",
       "  <th>OVERCOME</th>   <td>   48.6611</td> <td>    8.679</td> <td>    5.607</td> <td> 0.011</td> <td>   21.041</td> <td>   76.281</td>\n",
       "</tr>\n",
       "<tr>\n",
       "  <th>SPARE_SUC</th>  <td>   95.5560</td> <td>   18.139</td> <td>    5.268</td> <td> 0.013</td> <td>   37.829</td> <td>  153.283</td>\n",
       "</tr>\n",
       "<tr>\n",
       "  <th>throws_num</th> <td>  -12.3974</td> <td>    4.470</td> <td>   -2.774</td> <td> 0.069</td> <td>  -26.622</td> <td>    1.827</td>\n",
       "</tr>\n",
       "<tr>\n",
       "  <th>team_num</th>   <td>   -1.2950</td> <td>    0.575</td> <td>   -2.251</td> <td> 0.110</td> <td>   -3.126</td> <td>    0.536</td>\n",
       "</tr>\n",
       "<tr>\n",
       "  <th>hand_num</th>   <td>    1.3076</td> <td>    3.397</td> <td>    0.385</td> <td> 0.726</td> <td>   -9.503</td> <td>   12.118</td>\n",
       "</tr>\n",
       "</table>\n",
       "<table class=\"simpletable\">\n",
       "<tr>\n",
       "  <th>Omnibus:</th>       <td> 8.500</td> <th>  Durbin-Watson:     </th> <td>   1.591</td>\n",
       "</tr>\n",
       "<tr>\n",
       "  <th>Prob(Omnibus):</th> <td> 0.014</td> <th>  Jarque-Bera (JB):  </th> <td>   1.876</td>\n",
       "</tr>\n",
       "<tr>\n",
       "  <th>Skew:</th>          <td>-0.225</td> <th>  Prob(JB):          </th> <td>   0.391</td>\n",
       "</tr>\n",
       "<tr>\n",
       "  <th>Kurtosis:</th>      <td> 1.384</td> <th>  Cond. No.          </th> <td>3.67e+04</td>\n",
       "</tr>\n",
       "</table><br/><br/>Notes:<br/>[1] Standard Errors assume that the covariance matrix of the errors is correctly specified.<br/>[2] The condition number is large, 3.67e+04. This might indicate that there are<br/>strong multicollinearity or other numerical problems."
      ],
      "text/plain": [
       "<class 'statsmodels.iolib.summary.Summary'>\n",
       "\"\"\"\n",
       "                            OLS Regression Results                            \n",
       "==============================================================================\n",
       "Dep. Variable:                TOT_AVG   R-squared:                       0.993\n",
       "Model:                            OLS   Adj. R-squared:                  0.963\n",
       "Method:                 Least Squares   F-statistic:                     33.20\n",
       "Date:                Tue, 10 May 2022   Prob (F-statistic):            0.00741\n",
       "Time:                        19:02:34   Log-Likelihood:                -29.330\n",
       "No. Observations:                  16   AIC:                             84.66\n",
       "Df Residuals:                       3   BIC:                             94.70\n",
       "Df Model:                          12                                         \n",
       "Covariance Type:            nonrobust                                         \n",
       "==============================================================================\n",
       "                 coef    std err          t      P>|t|      [0.025      0.975]\n",
       "------------------------------------------------------------------------------\n",
       "const       -230.3134    163.995     -1.404      0.255    -752.217     291.591\n",
       "height         2.1974      0.710      3.096      0.053      -0.061       4.456\n",
       "exp            0.3335      0.245      1.359      0.267      -0.447       1.114\n",
       "pro_exp       -2.7781      0.584     -4.753      0.018      -4.638      -0.918\n",
       "weight        -0.0068      0.093     -0.072      0.947      -0.304       0.291\n",
       "ball_pound   -12.4371      9.633     -1.291      0.287     -43.095      18.221\n",
       "CON_ST        17.8647      1.947      9.176      0.003      11.669      24.061\n",
       "L_READ       -14.4554      4.231     -3.417      0.042     -27.919      -0.991\n",
       "OVERCOME      48.6611      8.679      5.607      0.011      21.041      76.281\n",
       "SPARE_SUC     95.5560     18.139      5.268      0.013      37.829     153.283\n",
       "throws_num   -12.3974      4.470     -2.774      0.069     -26.622       1.827\n",
       "team_num      -1.2950      0.575     -2.251      0.110      -3.126       0.536\n",
       "hand_num       1.3076      3.397      0.385      0.726      -9.503      12.118\n",
       "==============================================================================\n",
       "Omnibus:                        8.500   Durbin-Watson:                   1.591\n",
       "Prob(Omnibus):                  0.014   Jarque-Bera (JB):                1.876\n",
       "Skew:                          -0.225   Prob(JB):                        0.391\n",
       "Kurtosis:                       1.384   Cond. No.                     3.67e+04\n",
       "==============================================================================\n",
       "\n",
       "Notes:\n",
       "[1] Standard Errors assume that the covariance matrix of the errors is correctly specified.\n",
       "[2] The condition number is large, 3.67e+04. This might indicate that there are\n",
       "strong multicollinearity or other numerical problems.\n",
       "\"\"\""
      ]
     },
     "execution_count": 202,
     "metadata": {},
     "output_type": "execute_result"
    }
   ],
   "source": [
    "X_train=sm.add_constant(X_train)\n",
    "model=sm.OLS(y_train, X_train).fit()\n",
    "model.summary()"
   ]
  },
  {
   "cell_type": "markdown",
   "metadata": {},
   "source": [
    " - P>|t|  0.05이하\n",
    "    - CON_ST : 0.003\n",
    "    - OVERCOME\t: 0.011\n",
    "    - SPARE_SUC :\t0.013\n",
    "    - pro_exp : 0.018\n",
    "    - L_READ :\t0.042\n",
    "---\n",
    "\n",
    " >> 스트라이크 입력값으로 새롭게 생성한 피처(CON_ST, OVERCOME, SPARE_SUC, L_READ)들이 유의미한 피처로 사용 가능.  \n",
    " \n",
    " >> 선수 특성인 pro_exp의 p-value도 낮아서 놀라움\n",
    "."
   ]
  },
  {
   "cell_type": "code",
   "execution_count": 229,
   "metadata": {},
   "outputs": [
    {
     "data": {
      "text/plain": [
       "[Text(0, 0, 'const'),\n",
       " Text(1, 0, 'height'),\n",
       " Text(2, 0, 'exp'),\n",
       " Text(3, 0, 'pro_exp'),\n",
       " Text(4, 0, 'weight'),\n",
       " Text(5, 0, 'ball_pound'),\n",
       " Text(6, 0, 'CON_ST'),\n",
       " Text(7, 0, 'L_READ'),\n",
       " Text(8, 0, 'OVERCOME'),\n",
       " Text(9, 0, 'SPARE_SUC'),\n",
       " Text(10, 0, 'throws_num'),\n",
       " Text(11, 0, 'team_num'),\n",
       " Text(12, 0, 'hand_num')]"
      ]
     },
     "execution_count": 229,
     "metadata": {},
     "output_type": "execute_result"
    },
    {
     "name": "stderr",
     "output_type": "stream",
     "text": [
      "C:\\Users\\user\\Anaconda3\\envs\\ds_study\\lib\\site-packages\\IPython\\core\\pylabtools.py:151: UserWarning: Glyph 8722 (\\N{MINUS SIGN}) missing from current font.\n",
      "  fig.canvas.print_figure(bytes_io, **kw)\n"
     ]
    },
    {
     "data": {
      "image/png": "[encoded data removed]",
      "text/plain": [
       "<Figure size 1440x1152 with 1 Axes>"
      ]
     },
     "metadata": {
      "needs_background": "light"
     },
     "output_type": "display_data"
    }
   ],
   "source": [
    "#회귀계수를 그래프로 표현\n",
    "\n",
    "coefs=model.params.tolist()\n",
    "coefs_series = pd.Series(coefs)\n",
    "\n",
    "X_labels=model.params.index.tolist()\n",
    "\n",
    "\n",
    "ax= coefs_series.plot(kind='bar');\n",
    "ax.set_xticklabels(X_labels)"
   ]
  },
  {
   "cell_type": "code",
   "execution_count": 230,
   "metadata": {},
   "outputs": [
    {
     "data": {
      "text/plain": [
       "[Text(0, 0, 'height'),\n",
       " Text(1, 0, 'exp'),\n",
       " Text(2, 0, 'pro_exp'),\n",
       " Text(3, 0, 'weight'),\n",
       " Text(4, 0, 'ball_pound'),\n",
       " Text(5, 0, 'CON_ST'),\n",
       " Text(6, 0, 'L_READ'),\n",
       " Text(7, 0, 'OVERCOME'),\n",
       " Text(8, 0, 'SPARE_SUC'),\n",
       " Text(9, 0, 'throws_num'),\n",
       " Text(10, 0, 'team_num'),\n",
       " Text(11, 0, 'hand_num')]"
      ]
     },
     "execution_count": 230,
     "metadata": {},
     "output_type": "execute_result"
    },
    {
     "data": {
      "image/png": "[encoded data removed]",
      "text/plain": [
       "<Figure size 1440x1152 with 1 Axes>"
      ]
     },
     "metadata": {
      "needs_background": "light"
     },
     "output_type": "display_data"
    }
   ],
   "source": [
    "\n",
    "coefs=model.params.tolist()\n",
    "coefs_series = pd.Series(coefs[1:])\n",
    "\n",
    "X_labels=model.params.index.tolist()\n",
    "\n",
    "\n",
    "ax= coefs_series.plot(kind='bar')\n",
    "ax.set_xticklabels(X_labels[1:])\n"
   ]
  },
  {
   "cell_type": "markdown",
   "metadata": {},
   "source": [
    " - 피처의 영향력 크기\n",
    "    - SPARE_SUC\n",
    "    - OVERCOME\n",
    "    - CON_ST\n",
    "    - L_READ  \n",
    "  \n",
    ">> \n",
    "\n",
    "\n",
    " - const는 뭐지??\n",
    "---\n",
    "\n",
    " >> 스트라이크 입력값으로 새롭게 생성한 피처( SPARE_SUC , OVERCOME, CON_ST, L_READ )들이 영향력이 큼 \n",
    "     \n",
    " >> 유의미 순 : CON_ST, OVERCOME, SPARE_SUC, L_READ  \n",
    " >> 영향력 순 : SPARE_SUC , OVERCOME, CON_ST, L_READ  \n",
    "\n",
    "\n",
    " >>\n",
    "\n",
    "    - 분석에서 4개의 특성만 사용해도 되지않을까?\n"
   ]
  },
  {
   "cell_type": "code",
   "execution_count": 209,
   "metadata": {},
   "outputs": [
    {
     "data": {
      "text/html": [
       "<div>\n",
       "<style scoped>\n",
       "    .dataframe tbody tr th:only-of-type {\n",
       "        vertical-align: middle;\n",
       "    }\n",
       "\n",
       "    .dataframe tbody tr th {\n",
       "        vertical-align: top;\n",
       "    }\n",
       "\n",
       "    .dataframe thead th {\n",
       "        text-align: right;\n",
       "    }\n",
       "</style>\n",
       "<table border=\"1\" class=\"dataframe\">\n",
       "  <thead>\n",
       "    <tr style=\"text-align: right;\">\n",
       "      <th></th>\n",
       "      <th>height</th>\n",
       "      <th>exp</th>\n",
       "      <th>pro_exp</th>\n",
       "      <th>weight</th>\n",
       "      <th>ball_pound</th>\n",
       "      <th>TOT_AVG</th>\n",
       "      <th>CON_ST</th>\n",
       "      <th>L_READ</th>\n",
       "      <th>OVERCOME</th>\n",
       "      <th>SPARE_SUC</th>\n",
       "      <th>throws_num</th>\n",
       "      <th>team_num</th>\n",
       "      <th>hand_num</th>\n",
       "    </tr>\n",
       "  </thead>\n",
       "  <tbody>\n",
       "    <tr>\n",
       "      <th>0</th>\n",
       "      <td>180</td>\n",
       "      <td>23</td>\n",
       "      <td>3</td>\n",
       "      <td>60</td>\n",
       "      <td>15.0</td>\n",
       "      <td>215.8</td>\n",
       "      <td>4.40</td>\n",
       "      <td>-9.000000</td>\n",
       "      <td>0.652252</td>\n",
       "      <td>0.811789</td>\n",
       "      <td>2</td>\n",
       "      <td>2</td>\n",
       "      <td>1</td>\n",
       "    </tr>\n",
       "    <tr>\n",
       "      <th>1</th>\n",
       "      <td>173</td>\n",
       "      <td>22</td>\n",
       "      <td>3</td>\n",
       "      <td>79</td>\n",
       "      <td>15.0</td>\n",
       "      <td>246.0</td>\n",
       "      <td>5.75</td>\n",
       "      <td>-9.750000</td>\n",
       "      <td>0.687281</td>\n",
       "      <td>0.659609</td>\n",
       "      <td>1</td>\n",
       "      <td>13</td>\n",
       "      <td>0</td>\n",
       "    </tr>\n",
       "    <tr>\n",
       "      <th>2</th>\n",
       "      <td>179</td>\n",
       "      <td>13</td>\n",
       "      <td>4</td>\n",
       "      <td>130</td>\n",
       "      <td>15.0</td>\n",
       "      <td>190.5</td>\n",
       "      <td>2.75</td>\n",
       "      <td>-9.250000</td>\n",
       "      <td>0.475010</td>\n",
       "      <td>0.542429</td>\n",
       "      <td>2</td>\n",
       "      <td>10</td>\n",
       "      <td>0</td>\n",
       "    </tr>\n",
       "    <tr>\n",
       "      <th>3</th>\n",
       "      <td>175</td>\n",
       "      <td>10</td>\n",
       "      <td>8</td>\n",
       "      <td>72</td>\n",
       "      <td>15.0</td>\n",
       "      <td>212.5</td>\n",
       "      <td>4.00</td>\n",
       "      <td>-8.750000</td>\n",
       "      <td>0.455561</td>\n",
       "      <td>0.768218</td>\n",
       "      <td>1</td>\n",
       "      <td>12</td>\n",
       "      <td>0</td>\n",
       "    </tr>\n",
       "    <tr>\n",
       "      <th>4</th>\n",
       "      <td>167</td>\n",
       "      <td>31</td>\n",
       "      <td>6</td>\n",
       "      <td>70</td>\n",
       "      <td>15.0</td>\n",
       "      <td>172.0</td>\n",
       "      <td>2.00</td>\n",
       "      <td>-8.666667</td>\n",
       "      <td>0.688754</td>\n",
       "      <td>0.467551</td>\n",
       "      <td>1</td>\n",
       "      <td>0</td>\n",
       "      <td>1</td>\n",
       "    </tr>\n",
       "  </tbody>\n",
       "</table>\n",
       "</div>"
      ],
      "text/plain": [
       "   height  exp  pro_exp  weight  ball_pound  TOT_AVG  CON_ST    L_READ  \\\n",
       "0     180   23        3      60        15.0    215.8    4.40 -9.000000   \n",
       "1     173   22        3      79        15.0    246.0    5.75 -9.750000   \n",
       "2     179   13        4     130        15.0    190.5    2.75 -9.250000   \n",
       "3     175   10        8      72        15.0    212.5    4.00 -8.750000   \n",
       "4     167   31        6      70        15.0    172.0    2.00 -8.666667   \n",
       "\n",
       "   OVERCOME  SPARE_SUC  throws_num  team_num  hand_num  \n",
       "0  0.652252   0.811789           2         2         1  \n",
       "1  0.687281   0.659609           1        13         0  \n",
       "2  0.475010   0.542429           2        10         0  \n",
       "3  0.455561   0.768218           1        12         0  \n",
       "4  0.688754   0.467551           1         0         1  "
      ]
     },
     "execution_count": 209,
     "metadata": {},
     "output_type": "execute_result"
    }
   ],
   "source": [
    "bowling_m_2.head()"
   ]
  },
  {
   "cell_type": "code",
   "execution_count": 220,
   "metadata": {},
   "outputs": [],
   "source": [
    "bowling_m_3=bowling_m_2[['TOT_AVG','CON_ST','L_READ','OVERCOME','SPARE_SUC']]"
   ]
  },
  {
   "cell_type": "code",
   "execution_count": 222,
   "metadata": {},
   "outputs": [
    {
     "data": {
      "text/html": [
       "<div>\n",
       "<style scoped>\n",
       "    .dataframe tbody tr th:only-of-type {\n",
       "        vertical-align: middle;\n",
       "    }\n",
       "\n",
       "    .dataframe tbody tr th {\n",
       "        vertical-align: top;\n",
       "    }\n",
       "\n",
       "    .dataframe thead th {\n",
       "        text-align: right;\n",
       "    }\n",
       "</style>\n",
       "<table border=\"1\" class=\"dataframe\">\n",
       "  <thead>\n",
       "    <tr style=\"text-align: right;\">\n",
       "      <th></th>\n",
       "      <th>TOT_AVG</th>\n",
       "      <th>CON_ST</th>\n",
       "      <th>L_READ</th>\n",
       "      <th>OVERCOME</th>\n",
       "      <th>SPARE_SUC</th>\n",
       "    </tr>\n",
       "  </thead>\n",
       "  <tbody>\n",
       "    <tr>\n",
       "      <th>0</th>\n",
       "      <td>215.8</td>\n",
       "      <td>4.40</td>\n",
       "      <td>-9.000000</td>\n",
       "      <td>0.652252</td>\n",
       "      <td>0.811789</td>\n",
       "    </tr>\n",
       "    <tr>\n",
       "      <th>1</th>\n",
       "      <td>246.0</td>\n",
       "      <td>5.75</td>\n",
       "      <td>-9.750000</td>\n",
       "      <td>0.687281</td>\n",
       "      <td>0.659609</td>\n",
       "    </tr>\n",
       "    <tr>\n",
       "      <th>2</th>\n",
       "      <td>190.5</td>\n",
       "      <td>2.75</td>\n",
       "      <td>-9.250000</td>\n",
       "      <td>0.475010</td>\n",
       "      <td>0.542429</td>\n",
       "    </tr>\n",
       "    <tr>\n",
       "      <th>3</th>\n",
       "      <td>212.5</td>\n",
       "      <td>4.00</td>\n",
       "      <td>-8.750000</td>\n",
       "      <td>0.455561</td>\n",
       "      <td>0.768218</td>\n",
       "    </tr>\n",
       "    <tr>\n",
       "      <th>4</th>\n",
       "      <td>172.0</td>\n",
       "      <td>2.00</td>\n",
       "      <td>-8.666667</td>\n",
       "      <td>0.688754</td>\n",
       "      <td>0.467551</td>\n",
       "    </tr>\n",
       "  </tbody>\n",
       "</table>\n",
       "</div>"
      ],
      "text/plain": [
       "   TOT_AVG  CON_ST    L_READ  OVERCOME  SPARE_SUC\n",
       "0    215.8    4.40 -9.000000  0.652252   0.811789\n",
       "1    246.0    5.75 -9.750000  0.687281   0.659609\n",
       "2    190.5    2.75 -9.250000  0.475010   0.542429\n",
       "3    212.5    4.00 -8.750000  0.455561   0.768218\n",
       "4    172.0    2.00 -8.666667  0.688754   0.467551"
      ]
     },
     "execution_count": 222,
     "metadata": {},
     "output_type": "execute_result"
    }
   ],
   "source": [
    "bowling_m_3.head()"
   ]
  },
  {
   "cell_type": "markdown",
   "metadata": {},
   "source": [
    "---  \n",
    "\n",
    " > 궁금 ?  \n",
    " \n",
    "    pairplot 결과는 CON_ST만 상관관계가 있어 보였는데 회귀 계수의 크기는 왜 다른 피처가 더 높은가?  \n",
    "    \n",
    "plt.figure(figsize=(12,6))\n",
    "sns.pairplot(data=bowling_m);\n",
    "\n",
    "sns.lmplot(x='TOT_AVG', y= 'CON_ST', data=bowling_m);  \n",
    "\n",
    "\n",
    "    const는 뭐지? \n",
    "\n",
    "---"
   ]
  },
  {
   "cell_type": "code",
   "execution_count": 240,
   "metadata": {},
   "outputs": [],
   "source": [
    "\n",
    "X = bowling_m_3.drop('TOT_AVG',axis=1)\n",
    "y = bowling_m_3['TOT_AVG']\n",
    "\n",
    "X_train, X_test, y_train, y_test = train_test_split(X,y,test_size=0.2, random_state=13)"
   ]
  },
  {
   "cell_type": "markdown",
   "metadata": {},
   "source": [
    "## 5.통계적 회귀  \n",
    "\n",
    " - 상관관계가 높은 CON_ST , 회귀계수가 큰 SPARE_SUC 각각 진행해보기"
   ]
  },
  {
   "cell_type": "code",
   "execution_count": 250,
   "metadata": {},
   "outputs": [
    {
     "data": {
      "text/plain": [
       "<seaborn.axisgrid.FacetGrid at 0x1f4ef3cdd00>"
      ]
     },
     "execution_count": 250,
     "metadata": {},
     "output_type": "execute_result"
    },
    {
     "data": {
      "image/png": "[encoded data removed]",
      "text/plain": [
       "<Figure size 360x360 with 1 Axes>"
      ]
     },
     "metadata": {
      "needs_background": "light"
     },
     "output_type": "display_data"
    }
   ],
   "source": [
    "#CON_ST\n",
    "\n",
    "sns.lmplot(x='CON_ST', y='TOT_AVG', data=bowling_m_3)"
   ]
  },
  {
   "cell_type": "code",
   "execution_count": 253,
   "metadata": {},
   "outputs": [
    {
     "data": {
      "text/html": [
       "<table class=\"simpletable\">\n",
       "<caption>OLS Regression Results</caption>\n",
       "<tr>\n",
       "  <th>Dep. Variable:</th>         <td>TOT_AVG</td>     <th>  R-squared (uncentered):</th>      <td>   0.971</td>\n",
       "</tr>\n",
       "<tr>\n",
       "  <th>Model:</th>                   <td>OLS</td>       <th>  Adj. R-squared (uncentered):</th> <td>   0.970</td>\n",
       "</tr>\n",
       "<tr>\n",
       "  <th>Method:</th>             <td>Least Squares</td>  <th>  F-statistic:       </th>          <td>   643.7</td>\n",
       "</tr>\n",
       "<tr>\n",
       "  <th>Date:</th>             <td>Tue, 10 May 2022</td> <th>  Prob (F-statistic):</th>          <td>4.05e-16</td>\n",
       "</tr>\n",
       "<tr>\n",
       "  <th>Time:</th>                 <td>21:41:22</td>     <th>  Log-Likelihood:    </th>          <td> -100.30</td>\n",
       "</tr>\n",
       "<tr>\n",
       "  <th>No. Observations:</th>      <td>    20</td>      <th>  AIC:               </th>          <td>   202.6</td>\n",
       "</tr>\n",
       "<tr>\n",
       "  <th>Df Residuals:</th>          <td>    19</td>      <th>  BIC:               </th>          <td>   203.6</td>\n",
       "</tr>\n",
       "<tr>\n",
       "  <th>Df Model:</th>              <td>     1</td>      <th>                     </th>              <td> </td>   \n",
       "</tr>\n",
       "<tr>\n",
       "  <th>Covariance Type:</th>      <td>nonrobust</td>    <th>                     </th>              <td> </td>   \n",
       "</tr>\n",
       "</table>\n",
       "<table class=\"simpletable\">\n",
       "<tr>\n",
       "     <td></td>       <th>coef</th>     <th>std err</th>      <th>t</th>      <th>P>|t|</th>  <th>[0.025</th>    <th>0.975]</th>  \n",
       "</tr>\n",
       "<tr>\n",
       "  <th>CON_ST</th> <td>   50.5264</td> <td>    1.991</td> <td>   25.372</td> <td> 0.000</td> <td>   46.358</td> <td>   54.694</td>\n",
       "</tr>\n",
       "</table>\n",
       "<table class=\"simpletable\">\n",
       "<tr>\n",
       "  <th>Omnibus:</th>       <td> 2.219</td> <th>  Durbin-Watson:     </th> <td>   2.331</td>\n",
       "</tr>\n",
       "<tr>\n",
       "  <th>Prob(Omnibus):</th> <td> 0.330</td> <th>  Jarque-Bera (JB):  </th> <td>   1.120</td>\n",
       "</tr>\n",
       "<tr>\n",
       "  <th>Skew:</th>          <td>-0.143</td> <th>  Prob(JB):          </th> <td>   0.571</td>\n",
       "</tr>\n",
       "<tr>\n",
       "  <th>Kurtosis:</th>      <td> 1.877</td> <th>  Cond. No.          </th> <td>    1.00</td>\n",
       "</tr>\n",
       "</table><br/><br/>Notes:<br/>[1] R² is computed without centering (uncentered) since the model does not contain a constant.<br/>[2] Standard Errors assume that the covariance matrix of the errors is correctly specified."
      ],
      "text/plain": [
       "<class 'statsmodels.iolib.summary.Summary'>\n",
       "\"\"\"\n",
       "                                 OLS Regression Results                                \n",
       "=======================================================================================\n",
       "Dep. Variable:                TOT_AVG   R-squared (uncentered):                   0.971\n",
       "Model:                            OLS   Adj. R-squared (uncentered):              0.970\n",
       "Method:                 Least Squares   F-statistic:                              643.7\n",
       "Date:                Tue, 10 May 2022   Prob (F-statistic):                    4.05e-16\n",
       "Time:                        21:41:22   Log-Likelihood:                         -100.30\n",
       "No. Observations:                  20   AIC:                                      202.6\n",
       "Df Residuals:                      19   BIC:                                      203.6\n",
       "Df Model:                           1                                                  \n",
       "Covariance Type:            nonrobust                                                  \n",
       "==============================================================================\n",
       "                 coef    std err          t      P>|t|      [0.025      0.975]\n",
       "------------------------------------------------------------------------------\n",
       "CON_ST        50.5264      1.991     25.372      0.000      46.358      54.694\n",
       "==============================================================================\n",
       "Omnibus:                        2.219   Durbin-Watson:                   2.331\n",
       "Prob(Omnibus):                  0.330   Jarque-Bera (JB):                1.120\n",
       "Skew:                          -0.143   Prob(JB):                        0.571\n",
       "Kurtosis:                       1.877   Cond. No.                         1.00\n",
       "==============================================================================\n",
       "\n",
       "Notes:\n",
       "[1] R² is computed without centering (uncentered) since the model does not contain a constant.\n",
       "[2] Standard Errors assume that the covariance matrix of the errors is correctly specified.\n",
       "\"\"\""
      ]
     },
     "execution_count": 253,
     "metadata": {},
     "output_type": "execute_result"
    }
   ],
   "source": [
    "X = bowling_m_3['CON_ST']\n",
    "y = bowling_m_3['TOT_AVG']\n",
    "\n",
    "lm=sm.OLS(y,X).fit()\n",
    "lm.summary()"
   ]
  },
  {
   "cell_type": "code",
   "execution_count": 263,
   "metadata": {},
   "outputs": [
    {
     "data": {
      "image/png": "[encoded data removed]",
      "text/plain": [
       "<Figure size 432x432 with 1 Axes>"
      ]
     },
     "metadata": {
      "needs_background": "light"
     },
     "output_type": "display_data"
    }
   ],
   "source": [
    "pred=lm.predict(X)\n",
    "\n",
    "plt.figure(figsize=(6,6))\n",
    "sns.scatterplot(x=X, y=y)\n",
    "plt.plot(X, pred, 'r', lw=3);"
   ]
  },
  {
   "cell_type": "code",
   "execution_count": null,
   "metadata": {},
   "outputs": [],
   "source": [
    "#상수항이 없어서 > 다시 수정해야"
   ]
  },
  {
   "cell_type": "code",
   "execution_count": null,
   "metadata": {},
   "outputs": [],
   "source": []
  },
  {
   "cell_type": "code",
   "execution_count": null,
   "metadata": {},
   "outputs": [],
   "source": []
  },
  {
   "cell_type": "code",
   "execution_count": null,
   "metadata": {},
   "outputs": [],
   "source": []
  },
  {
   "cell_type": "code",
   "execution_count": null,
   "metadata": {},
   "outputs": [],
   "source": []
  },
  {
   "cell_type": "code",
   "execution_count": 235,
   "metadata": {},
   "outputs": [],
   "source": [
    "#회귀모델 평가하기 (R2 score)\n",
    "\n",
    "X = bowling_m_3.drop('TOT_AVG',axis=1)\n",
    "y = bowling_m_3['TOT_AVG']\n",
    "\n",
    "X_train, X_test, y_train, y_test = train_test_split(X,y,test_size=0.2, random_state=13)\n"
   ]
  },
  {
   "cell_type": "code",
   "execution_count": 239,
   "metadata": {},
   "outputs": [
    {
     "data": {
      "text/plain": [
       "LinearRegression()"
      ]
     },
     "execution_count": 239,
     "metadata": {},
     "output_type": "execute_result"
    }
   ],
   "source": [
    "lr=LinearRegression()\n",
    "lr.fit(X_train, y_train)"
   ]
  },
  {
   "cell_type": "code",
   "execution_count": 237,
   "metadata": {},
   "outputs": [
    {
     "ename": "AttributeError",
     "evalue": "'OLSResults' object has no attribute 'score'",
     "output_type": "error",
     "traceback": [
      "\u001b[1;31m---------------------------------------------------------------------------\u001b[0m",
      "\u001b[1;31mAttributeError\u001b[0m                            Traceback (most recent call last)",
      "\u001b[1;32mC:\\Users\\Public\\Documents\\ESTsoft\\CreatorTemp/ipykernel_28960/2627077233.py\u001b[0m in \u001b[0;36m<module>\u001b[1;34m\u001b[0m\n\u001b[1;32m----> 1\u001b[1;33m \u001b[0mprint\u001b[0m\u001b[1;33m(\u001b[0m\u001b[1;34m'Train R2 score'\u001b[0m\u001b[1;33m,\u001b[0m\u001b[0mmodel\u001b[0m\u001b[1;33m.\u001b[0m\u001b[0mscore\u001b[0m\u001b[1;33m(\u001b[0m\u001b[0mX_train\u001b[0m\u001b[1;33m,\u001b[0m \u001b[0my_train\u001b[0m\u001b[1;33m)\u001b[0m\u001b[1;33m)\u001b[0m\u001b[1;33m\u001b[0m\u001b[1;33m\u001b[0m\u001b[0m\n\u001b[0m\u001b[0;32m      2\u001b[0m \u001b[0mprint\u001b[0m\u001b[1;33m(\u001b[0m\u001b[1;34m'Test R2 score'\u001b[0m\u001b[1;33m,\u001b[0m\u001b[0mmodel\u001b[0m\u001b[1;33m.\u001b[0m\u001b[0mscore\u001b[0m\u001b[1;33m(\u001b[0m\u001b[0mX_test\u001b[0m\u001b[1;33m,\u001b[0m \u001b[0my_test\u001b[0m\u001b[1;33m)\u001b[0m\u001b[1;33m)\u001b[0m\u001b[1;33m\u001b[0m\u001b[1;33m\u001b[0m\u001b[0m\n",
      "\u001b[1;32m~\\Anaconda3\\envs\\ds_study\\lib\\site-packages\\statsmodels\\base\\wrapper.py\u001b[0m in \u001b[0;36m__getattribute__\u001b[1;34m(self, attr)\u001b[0m\n\u001b[0;32m     32\u001b[0m             \u001b[1;32mpass\u001b[0m\u001b[1;33m\u001b[0m\u001b[1;33m\u001b[0m\u001b[0m\n\u001b[0;32m     33\u001b[0m \u001b[1;33m\u001b[0m\u001b[0m\n\u001b[1;32m---> 34\u001b[1;33m         \u001b[0mobj\u001b[0m \u001b[1;33m=\u001b[0m \u001b[0mgetattr\u001b[0m\u001b[1;33m(\u001b[0m\u001b[0mresults\u001b[0m\u001b[1;33m,\u001b[0m \u001b[0mattr\u001b[0m\u001b[1;33m)\u001b[0m\u001b[1;33m\u001b[0m\u001b[1;33m\u001b[0m\u001b[0m\n\u001b[0m\u001b[0;32m     35\u001b[0m         \u001b[0mdata\u001b[0m \u001b[1;33m=\u001b[0m \u001b[0mresults\u001b[0m\u001b[1;33m.\u001b[0m\u001b[0mmodel\u001b[0m\u001b[1;33m.\u001b[0m\u001b[0mdata\u001b[0m\u001b[1;33m\u001b[0m\u001b[1;33m\u001b[0m\u001b[0m\n\u001b[0;32m     36\u001b[0m         \u001b[0mhow\u001b[0m \u001b[1;33m=\u001b[0m \u001b[0mself\u001b[0m\u001b[1;33m.\u001b[0m\u001b[0m_wrap_attrs\u001b[0m\u001b[1;33m.\u001b[0m\u001b[0mget\u001b[0m\u001b[1;33m(\u001b[0m\u001b[0mattr\u001b[0m\u001b[1;33m)\u001b[0m\u001b[1;33m\u001b[0m\u001b[1;33m\u001b[0m\u001b[0m\n",
      "\u001b[1;31mAttributeError\u001b[0m: 'OLSResults' object has no attribute 'score'"
     ]
    }
   ],
   "source": [
    "print('Train R2 score',model.score(X_train, y_train))\n",
    "print('Test R2 score',model.score(X_test, y_test))"
   ]
  },
  {
   "cell_type": "code",
   "execution_count": null,
   "metadata": {},
   "outputs": [],
   "source": []
  },
  {
   "cell_type": "markdown",
   "metadata": {},
   "source": [
    "## 여성부"
   ]
  },
  {
   "cell_type": "code",
   "execution_count": 37,
   "metadata": {},
   "outputs": [
    {
     "name": "stdout",
     "output_type": "stream",
     "text": [
      "127\n"
     ]
    }
   ],
   "source": [
    "# name=[]\n",
    "# for idx, dataset in bowling.iterrows():\n",
    "#     if dataset['COL1'] != 'nan':\n",
    "#         name.append(dataset['COL1'])\n",
    "\n",
    "# print(len(name))"
   ]
  },
  {
   "cell_type": "code",
   "execution_count": 40,
   "metadata": {},
   "outputs": [
    {
     "name": "stdout",
     "output_type": "stream",
     "text": [
      "['이름', '양은숙', '김효미', '정해원', '이선진', '김유미', '이미진13A', '한진아14', '전성화', '김민선', '최현숙', '김양희', '안정원', '김영숙', '여수현', '정희선', '오승이', '임가혜', '유성희', '임가현', '유혜련', '염혜경', '임현옥', '정해원', '윤희여', '오승이', '염혜경', '임가혜', '김유미', '이선진', '유현이', '김푸른', '이영미', '김민선', '정호정', '차미정', '안정원', '한진아14', '차하영', '전성화', '최현숙', '김양희', '김연주', '정희선', '지은솔', '김영숙', '임현옥', '윤희여', '김아름', '임가현', '유혜련', '유현이', '김푸른', '이영미', '차하영', '정호정', '차미정', '김연주', '김은옥', '지은솔', '김유민', '오명진', '한윤아', '염혜경', '정해원', '김영숙', '여수현', '오승이', '임가혜', '이미진13A', '안정원', '임가현', '유혜련', '차하영', '양은숙', '김효미', '이미진13A', '한윤아', '오명진', '김아름', '김영숙', '여수현', '차미정', '정호정', '유성희', '김유민', '한진아14', '전성화', '한진아14', '전성화', '정해원', '최현숙', '김양희', '이미진13A', '양은숙', '정희선', '김효미', '유성희', '김유미', '이선진', '김민선', '김영숙', '여수현', '안정원', '오승이', '임가혜']\n"
     ]
    }
   ],
   "source": [
    "# name=[]\n",
    "# for i in name[:]:\n",
    "#     if type(i) != str:\n",
    "#         name.remove(i)\n",
    "# print(name)\n",
    "# name=name[1:]"
   ]
  },
  {
   "cell_type": "code",
   "execution_count": 6,
   "metadata": {},
   "outputs": [
    {
     "name": "stdout",
     "output_type": "stream",
     "text": [
      "['김민선', '김민선', '김아름', '김아름', '김양희', '김연주', '김영숙', '김영숙', '김영숙', '김영숙', '김영숙', '김유미', '김유민', '김유민', '김은옥', '김효미', '김효미', '안정원', '안정원', '안정원', '양은숙', '양은숙', '여수현', '여수현', '여수현', '염혜경', '염혜경', '오명진', '오명진', '오승이', '오승이', '오승이', '유성희', '유성희', '유현이', '유혜련', '유혜련', '유혜련', '윤희여', '이미진13A', '이선진', '임가현', '임가현', '임가혜', '임가혜', '임현옥', '전성화', '전성화', '전성화', '정해원', '정해원', '정해원', '정호정', '정호정', '정희선', '정희선', '정희선', '지은솔', '지은솔', '차미정', '차미정', '차하영', '최현숙', '한윤아', '한진아14', '한진아14', '한진아14', '한진아14']\n"
     ]
    }
   ],
   "source": [
    "name_list=[]\n",
    "for i in bowling['이름']:\n",
    "    name_list.append(i)\n",
    "\n",
    "name_list.sort()\n",
    "print(name_list)"
   ]
  },
  {
   "cell_type": "code",
   "execution_count": 21,
   "metadata": {},
   "outputs": [
    {
     "name": "stdout",
     "output_type": "stream",
     "text": [
      "68 34\n"
     ]
    }
   ],
   "source": [
    "print(len(name_list), len(set(name_list)))"
   ]
  },
  {
   "cell_type": "code",
   "execution_count": 18,
   "metadata": {},
   "outputs": [
    {
     "name": "stdout",
     "output_type": "stream",
     "text": [
      "[{'임가현': 2}, {'차하영': 1}, {'김연주': 1}, {'윤희여': 1}, {'김은옥': 1}, {'김효미': 2}, {'임현옥': 1}, {'오승이': 3}, {'김아름': 2}, {'오명진': 2}, {'김영숙': 5}, {'정해원': 3}, {'최현숙': 1}, {'정희선': 3}, {'김양희': 1}, {'유현이': 1}, {'한윤아': 1}, {'염혜경': 2}, {'전성화': 3}, {'지은솔': 2}, {'이선진': 1}, {'유혜련': 3}, {'김유미': 1}, {'정호정': 2}, {'임가혜': 2}, {'유성희': 2}, {'김유민': 2}, {'이미진13A': 1}, {'김민선': 2}, {'한진아14': 4}, {'안정원': 3}, {'양은숙': 2}, {'차미정': 2}, {'여수현': 3}]\n"
     ]
    }
   ],
   "source": [
    "count=[]\n",
    "name_set=set(name_list)\n",
    "for i in name_set:\n",
    "    count.append({i :name_list.count(i)})\n",
    "\n",
    "print(count)"
   ]
  },
  {
   "cell_type": "code",
   "execution_count": 19,
   "metadata": {},
   "outputs": [
    {
     "name": "stdout",
     "output_type": "stream",
     "text": [
      "[2, 1, 1, 1, 1, 2, 1, 3, 2, 2, 5, 3, 1, 3, 1, 1, 1, 2, 3, 2, 1, 3, 1, 2, 2, 2, 2, 1, 2, 4, 3, 2, 2, 3]\n"
     ]
    }
   ],
   "source": [
    "count2=[]\n",
    "name_set=set(name_list)\n",
    "for i in name_set:\n",
    "    count2.append(name_list.count(i))\n",
    "\n",
    "print(count2)"
   ]
  },
  {
   "cell_type": "code",
   "execution_count": 20,
   "metadata": {},
   "outputs": [
    {
     "name": "stdout",
     "output_type": "stream",
     "text": [
      "2.0\n"
     ]
    }
   ],
   "source": [
    "print(sum(count2)/len(count2))"
   ]
  },
  {
   "cell_type": "code",
   "execution_count": null,
   "metadata": {},
   "outputs": [],
   "source": []
  }
 ],
 "metadata": {
  "interpreter": {
   "hash": "2cf0b4bbc6d7b24fc3c4c80dfd9ad87751d03a738f33ceb00e3851d336ffbe16"
  },
  "kernelspec": {
   "display_name": "Python 3.8.12 ('ds_study')",
   "language": "python",
   "name": "python3"
  },
  "language_info": {
   "codemirror_mode": {
    "name": "ipython",
    "version": 3
   },
   "file_extension": ".py",
   "mimetype": "text/x-python",
   "name": "python",
   "nbconvert_exporter": "python",
   "pygments_lexer": "ipython3",
   "version": "3.8.12"
  },
  "orig_nbformat": 4
 },
 "nbformat": 4,
 "nbformat_minor": 2
}
